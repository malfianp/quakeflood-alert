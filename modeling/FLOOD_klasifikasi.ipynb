{
 "cells": [
  {
   "cell_type": "markdown",
   "id": "ebe3ba27-014f-4f01-9fd5-dbdbc01d4738",
   "metadata": {},
   "source": [
    "# BANJIR: MODEL KLASIFIKASI (A2)\n"
   ]
  },
  {
   "cell_type": "markdown",
   "id": "8d210182-3c86-4197-9a11-8987f7640b6b",
   "metadata": {},
   "source": [
    "---"
   ]
  },
  {
   "cell_type": "code",
   "execution_count": 1,
   "id": "f190636d-4ec9-4eaf-9782-292d02549a31",
   "metadata": {},
   "outputs": [],
   "source": [
    "# import libraries\n",
    "import pandas as pd\n",
    "import numpy as np\n",
    "# import seaborn as sns\n",
    "import matplotlib.pyplot as plt\n",
    "\n",
    "from scipy import stats\n",
    "# from scipy.signal import savgol_filter\n",
    "from sklearn.model_selection import train_test_split\n",
    "from sklearn.preprocessing import MinMaxScaler\n",
    "\n",
    "import tensorflow as tf\n",
    "from tensorflow.keras.models import Sequential\n",
    "from tensorflow.keras.layers import GRU, Dense\n",
    "from tensorflow.keras.optimizers import Adam\n",
    "from tensorflow.keras.callbacks import EarlyStopping\n",
    "# from sklearn.metrics import mean_absolute_error, mean_squared_error\n",
    "\n",
    "import os\n",
    "import sys\n",
    "import warnings"
   ]
  },
  {
   "cell_type": "code",
   "execution_count": 2,
   "id": "26987d01-c6ae-4e49-8152-2d89caaca62d",
   "metadata": {},
   "outputs": [],
   "source": [
    "# functions"
   ]
  },
  {
   "cell_type": "code",
   "execution_count": 3,
   "id": "a416956b-31bf-4435-9f09-6b97267b12da",
   "metadata": {},
   "outputs": [],
   "source": [
    "# setting\n",
    "# display max columns\n",
    "pd.set_option('display.max_columns', None)"
   ]
  },
  {
   "cell_type": "code",
   "execution_count": 4,
   "id": "b9d01b67-a349-4508-b79d-b0d17b498110",
   "metadata": {},
   "outputs": [
    {
     "name": "stdout",
     "output_type": "stream",
     "text": [
      "python/system version: 3.9.16 (main, Jan 11 2023, 16:16:36) [MSC v.1916 64 bit (AMD64)]\n",
      "tf version: 2.10.0\n",
      "gpu num: 1\n",
      "cuda: True\n"
     ]
    }
   ],
   "source": [
    "# system info\n",
    "print('python/system version:', sys.version)\n",
    "print('tf version:', tf.__version__)\n",
    "print('gpu num:', len(tf.config.experimental.list_physical_devices('GPU')))\n",
    "print('cuda:', tf.test.is_built_with_cuda())"
   ]
  },
  {
   "cell_type": "markdown",
   "id": "d9b9b320-563a-45f7-964c-fd3fff404b12",
   "metadata": {},
   "source": [
    "## - DATA UNDERSTANDING"
   ]
  },
  {
   "cell_type": "code",
   "execution_count": 5,
   "id": "9a6b7218-f505-46b2-9f92-49724bfb4319",
   "metadata": {},
   "outputs": [],
   "source": [
    " # read dataset modeling\n",
    "df = pd.read_csv('dataset/dataset_saved-A/dataset_A2/flood-A2_modeling.csv')\n",
    "\n",
    "# read dataset lengkap (untuk meihat kejadian-kejadian banjir yang tercatat/diberitakan di media)\n",
    "df_all = pd.read_csv('dataset/dataset_saved-A/dataset_A2/flood-A2_all.csv')"
   ]
  },
  {
   "cell_type": "markdown",
   "id": "55fd92dc-1a7f-445f-9484-f39d154abca9",
   "metadata": {},
   "source": [
    "### Data Exploration\n",
    "\n",
    "Kejadian banjir:\n",
    "- 11-06-2022 20:58 = [pusatkrisis.kemkes.go.id](https://pusatkrisis.kemkes.go.id/Banjir-di-KOTA-PADANG-SUMATERA-BARAT-11-06-2022-94)\n",
    "- 02-10-2022 03:00 = [pusatkrisis.kemkes.go.id](https://pusatkrisis.kemkes.go.id/Banjir-di-KOTA-PADANG-SUMATERA-BARAT-02-10-2022-77)\n",
    "- 11-11-2022 18:30 = [liputan6.com](https://www.liputan6.com/regional/read/5123074/hujan-sejak-siang-kota-padang-dilanda-banjir)"
   ]
  },
  {
   "cell_type": "code",
   "execution_count": 6,
   "id": "48f6b675-cf6e-4ce9-85bb-78b40b20aa5a",
   "metadata": {},
   "outputs": [
    {
     "data": {
      "text/html": [
       "<div>\n",
       "<style scoped>\n",
       "    .dataframe tbody tr th:only-of-type {\n",
       "        vertical-align: middle;\n",
       "    }\n",
       "\n",
       "    .dataframe tbody tr th {\n",
       "        vertical-align: top;\n",
       "    }\n",
       "\n",
       "    .dataframe thead th {\n",
       "        text-align: right;\n",
       "    }\n",
       "</style>\n",
       "<table border=\"1\" class=\"dataframe\">\n",
       "  <thead>\n",
       "    <tr style=\"text-align: right;\">\n",
       "      <th></th>\n",
       "      <th>height</th>\n",
       "      <th>temp</th>\n",
       "      <th>feelslike</th>\n",
       "      <th>dew</th>\n",
       "      <th>humidity</th>\n",
       "      <th>precip</th>\n",
       "      <th>precipprob</th>\n",
       "      <th>windgust</th>\n",
       "      <th>windspeed</th>\n",
       "      <th>winddir</th>\n",
       "      <th>sealevelpressure</th>\n",
       "      <th>cloudcover</th>\n",
       "      <th>visibility</th>\n",
       "      <th>severerisk</th>\n",
       "    </tr>\n",
       "    <tr>\n",
       "      <th>date</th>\n",
       "      <th></th>\n",
       "      <th></th>\n",
       "      <th></th>\n",
       "      <th></th>\n",
       "      <th></th>\n",
       "      <th></th>\n",
       "      <th></th>\n",
       "      <th></th>\n",
       "      <th></th>\n",
       "      <th></th>\n",
       "      <th></th>\n",
       "      <th></th>\n",
       "      <th></th>\n",
       "      <th></th>\n",
       "    </tr>\n",
       "  </thead>\n",
       "  <tbody>\n",
       "    <tr>\n",
       "      <th>2022-06-03 00:00:00</th>\n",
       "      <td>23.52</td>\n",
       "      <td>18.7</td>\n",
       "      <td>18.7</td>\n",
       "      <td>17.6</td>\n",
       "      <td>93.32</td>\n",
       "      <td>0.0</td>\n",
       "      <td>0</td>\n",
       "      <td>3.6</td>\n",
       "      <td>4.7</td>\n",
       "      <td>68.5</td>\n",
       "      <td>1014</td>\n",
       "      <td>100.0</td>\n",
       "      <td>24.1</td>\n",
       "      <td>10</td>\n",
       "    </tr>\n",
       "    <tr>\n",
       "      <th>2022-06-03 00:10:00</th>\n",
       "      <td>24.45</td>\n",
       "      <td>18.7</td>\n",
       "      <td>18.7</td>\n",
       "      <td>17.6</td>\n",
       "      <td>93.32</td>\n",
       "      <td>0.0</td>\n",
       "      <td>0</td>\n",
       "      <td>3.6</td>\n",
       "      <td>4.7</td>\n",
       "      <td>68.5</td>\n",
       "      <td>1014</td>\n",
       "      <td>100.0</td>\n",
       "      <td>24.1</td>\n",
       "      <td>10</td>\n",
       "    </tr>\n",
       "    <tr>\n",
       "      <th>2022-06-03 00:20:00</th>\n",
       "      <td>25.37</td>\n",
       "      <td>18.7</td>\n",
       "      <td>18.7</td>\n",
       "      <td>17.6</td>\n",
       "      <td>93.32</td>\n",
       "      <td>0.0</td>\n",
       "      <td>0</td>\n",
       "      <td>3.6</td>\n",
       "      <td>4.7</td>\n",
       "      <td>68.5</td>\n",
       "      <td>1014</td>\n",
       "      <td>100.0</td>\n",
       "      <td>24.1</td>\n",
       "      <td>10</td>\n",
       "    </tr>\n",
       "  </tbody>\n",
       "</table>\n",
       "</div>"
      ],
      "text/plain": [
       "                     height  temp  feelslike   dew  humidity  precip  \\\n",
       "date                                                                   \n",
       "2022-06-03 00:00:00   23.52  18.7       18.7  17.6     93.32     0.0   \n",
       "2022-06-03 00:10:00   24.45  18.7       18.7  17.6     93.32     0.0   \n",
       "2022-06-03 00:20:00   25.37  18.7       18.7  17.6     93.32     0.0   \n",
       "\n",
       "                     precipprob  windgust  windspeed  winddir  \\\n",
       "date                                                            \n",
       "2022-06-03 00:00:00           0       3.6        4.7     68.5   \n",
       "2022-06-03 00:10:00           0       3.6        4.7     68.5   \n",
       "2022-06-03 00:20:00           0       3.6        4.7     68.5   \n",
       "\n",
       "                     sealevelpressure  cloudcover  visibility  severerisk  \n",
       "date                                                                       \n",
       "2022-06-03 00:00:00              1014       100.0        24.1          10  \n",
       "2022-06-03 00:10:00              1014       100.0        24.1          10  \n",
       "2022-06-03 00:20:00              1014       100.0        24.1          10  "
      ]
     },
     "execution_count": 6,
     "metadata": {},
     "output_type": "execute_result"
    }
   ],
   "source": [
    "# menyesuaikan format date\n",
    "df_all['date'] = df_all['date'] + ':00'\n",
    "df_all['date'] = pd.to_datetime(df_all['date'], format='%d/%m/%Y %H:%M:%S')\n",
    "\n",
    "df_all = df_all.set_index('date')\n",
    "\n",
    "# menampilkan dataset lengkap\n",
    "df_all.head(3) "
   ]
  },
  {
   "cell_type": "markdown",
   "id": "2d457bd9-99ea-454e-b57b-c68cd2310dcd",
   "metadata": {},
   "source": [
    "#### Kejadian banjir 1"
   ]
  },
  {
   "cell_type": "code",
   "execution_count": 7,
   "id": "ed615b90-b652-4203-b9e2-bbb356c25b44",
   "metadata": {},
   "outputs": [
    {
     "data": {
      "image/png": "[encoded data removed]",
      "text/plain": [
       "<Figure size 1000x300 with 1 Axes>"
      ]
     },
     "metadata": {},
     "output_type": "display_data"
    },
    {
     "data": {
      "text/html": [
       "<div>\n",
       "<style scoped>\n",
       "    .dataframe tbody tr th:only-of-type {\n",
       "        vertical-align: middle;\n",
       "    }\n",
       "\n",
       "    .dataframe tbody tr th {\n",
       "        vertical-align: top;\n",
       "    }\n",
       "\n",
       "    .dataframe thead th {\n",
       "        text-align: right;\n",
       "    }\n",
       "</style>\n",
       "<table border=\"1\" class=\"dataframe\">\n",
       "  <thead>\n",
       "    <tr style=\"text-align: right;\">\n",
       "      <th></th>\n",
       "      <th>height</th>\n",
       "      <th>temp</th>\n",
       "      <th>feelslike</th>\n",
       "      <th>dew</th>\n",
       "      <th>humidity</th>\n",
       "      <th>precip</th>\n",
       "      <th>precipprob</th>\n",
       "      <th>windgust</th>\n",
       "      <th>windspeed</th>\n",
       "      <th>winddir</th>\n",
       "      <th>sealevelpressure</th>\n",
       "      <th>cloudcover</th>\n",
       "      <th>visibility</th>\n",
       "      <th>severerisk</th>\n",
       "    </tr>\n",
       "    <tr>\n",
       "      <th>date</th>\n",
       "      <th></th>\n",
       "      <th></th>\n",
       "      <th></th>\n",
       "      <th></th>\n",
       "      <th></th>\n",
       "      <th></th>\n",
       "      <th></th>\n",
       "      <th></th>\n",
       "      <th></th>\n",
       "      <th></th>\n",
       "      <th></th>\n",
       "      <th></th>\n",
       "      <th></th>\n",
       "      <th></th>\n",
       "    </tr>\n",
       "  </thead>\n",
       "  <tbody>\n",
       "    <tr>\n",
       "      <th>2022-06-11 20:50:00</th>\n",
       "      <td>187.09</td>\n",
       "      <td>19.8</td>\n",
       "      <td>19.8</td>\n",
       "      <td>19.9</td>\n",
       "      <td>100.0</td>\n",
       "      <td>0.0</td>\n",
       "      <td>0</td>\n",
       "      <td>13.3</td>\n",
       "      <td>4.7</td>\n",
       "      <td>278.0</td>\n",
       "      <td>1012</td>\n",
       "      <td>100.0</td>\n",
       "      <td>0.1</td>\n",
       "      <td>10</td>\n",
       "    </tr>\n",
       "  </tbody>\n",
       "</table>\n",
       "</div>"
      ],
      "text/plain": [
       "                     height  temp  feelslike   dew  humidity  precip  \\\n",
       "date                                                                   \n",
       "2022-06-11 20:50:00  187.09  19.8       19.8  19.9     100.0     0.0   \n",
       "\n",
       "                     precipprob  windgust  windspeed  winddir  \\\n",
       "date                                                            \n",
       "2022-06-11 20:50:00           0      13.3        4.7    278.0   \n",
       "\n",
       "                     sealevelpressure  cloudcover  visibility  severerisk  \n",
       "date                                                                       \n",
       "2022-06-11 20:50:00              1012       100.0         0.1          10  "
      ]
     },
     "execution_count": 7,
     "metadata": {},
     "output_type": "execute_result"
    }
   ],
   "source": [
    "# grafik banjir 1\n",
    "plt.figure(figsize=(10, 3))\n",
    "plt.plot(df_all['height']['2022-06-11 12:00:00':'2022-06-11 23:00:00'], '.-')\n",
    "plt.plot(df_all['height']['2022-06-11 21:00:00':'2022-06-11 21:00:00'], 'ro')\n",
    "plt.xlabel('Datetime', fontsize= 12)\n",
    "plt.ylabel('Height (cm)', fontsize= 12)\n",
    "plt.legend(['Height', 'Height saat banjir 1'],loc='lower right')\n",
    "plt.axhline(y=150, color='black', linestyle='--')\n",
    "plt.show()\n",
    "\n",
    "# data\n",
    "df_all['2022-06-11 20:50:00':'2022-06-11 20:50:00']"
   ]
  },
  {
   "cell_type": "markdown",
   "id": "58c44173-6e7d-46fe-9563-eade2bfbf8d4",
   "metadata": {},
   "source": [
    "#### Kejadian banjir 2"
   ]
  },
  {
   "cell_type": "code",
   "execution_count": 8,
   "id": "dbe91dbc-9596-429d-a809-49700366a029",
   "metadata": {},
   "outputs": [
    {
     "data": {
      "image/png": "[encoded data removed]",
      "text/plain": [
       "<Figure size 1000x300 with 1 Axes>"
      ]
     },
     "metadata": {},
     "output_type": "display_data"
    },
    {
     "data": {
      "text/html": [
       "<div>\n",
       "<style scoped>\n",
       "    .dataframe tbody tr th:only-of-type {\n",
       "        vertical-align: middle;\n",
       "    }\n",
       "\n",
       "    .dataframe tbody tr th {\n",
       "        vertical-align: top;\n",
       "    }\n",
       "\n",
       "    .dataframe thead th {\n",
       "        text-align: right;\n",
       "    }\n",
       "</style>\n",
       "<table border=\"1\" class=\"dataframe\">\n",
       "  <thead>\n",
       "    <tr style=\"text-align: right;\">\n",
       "      <th></th>\n",
       "      <th>height</th>\n",
       "      <th>temp</th>\n",
       "      <th>feelslike</th>\n",
       "      <th>dew</th>\n",
       "      <th>humidity</th>\n",
       "      <th>precip</th>\n",
       "      <th>precipprob</th>\n",
       "      <th>windgust</th>\n",
       "      <th>windspeed</th>\n",
       "      <th>winddir</th>\n",
       "      <th>sealevelpressure</th>\n",
       "      <th>cloudcover</th>\n",
       "      <th>visibility</th>\n",
       "      <th>severerisk</th>\n",
       "    </tr>\n",
       "    <tr>\n",
       "      <th>date</th>\n",
       "      <th></th>\n",
       "      <th></th>\n",
       "      <th></th>\n",
       "      <th></th>\n",
       "      <th></th>\n",
       "      <th></th>\n",
       "      <th></th>\n",
       "      <th></th>\n",
       "      <th></th>\n",
       "      <th></th>\n",
       "      <th></th>\n",
       "      <th></th>\n",
       "      <th></th>\n",
       "      <th></th>\n",
       "    </tr>\n",
       "  </thead>\n",
       "  <tbody>\n",
       "    <tr>\n",
       "      <th>2022-10-02 03:00:00</th>\n",
       "      <td>206.01</td>\n",
       "      <td>19.9</td>\n",
       "      <td>19.9</td>\n",
       "      <td>19.5</td>\n",
       "      <td>97.55</td>\n",
       "      <td>0.6</td>\n",
       "      <td>100</td>\n",
       "      <td>1.1</td>\n",
       "      <td>1.1</td>\n",
       "      <td>138.2</td>\n",
       "      <td>1010</td>\n",
       "      <td>47.7</td>\n",
       "      <td>17.3</td>\n",
       "      <td>10</td>\n",
       "    </tr>\n",
       "  </tbody>\n",
       "</table>\n",
       "</div>"
      ],
      "text/plain": [
       "                     height  temp  feelslike   dew  humidity  precip  \\\n",
       "date                                                                   \n",
       "2022-10-02 03:00:00  206.01  19.9       19.9  19.5     97.55     0.6   \n",
       "\n",
       "                     precipprob  windgust  windspeed  winddir  \\\n",
       "date                                                            \n",
       "2022-10-02 03:00:00         100       1.1        1.1    138.2   \n",
       "\n",
       "                     sealevelpressure  cloudcover  visibility  severerisk  \n",
       "date                                                                       \n",
       "2022-10-02 03:00:00              1010        47.7        17.3          10  "
      ]
     },
     "execution_count": 8,
     "metadata": {},
     "output_type": "execute_result"
    }
   ],
   "source": [
    "# grafik banjir 2\n",
    "plt.figure(figsize=(10, 3))\n",
    "plt.plot(df_all['height']['2022-10-01 18:00:00':'2022-10-02 06:00:00'], '.-')\n",
    "plt.plot(df_all['height']['2022-10-02 03:00:00':'2022-10-02 03:00:00'], 'ro')\n",
    "plt.xlabel('Datetime', fontsize= 12)\n",
    "plt.ylabel('Height (cm)', fontsize= 12)\n",
    "plt.legend(['Height', 'Height saat banjir 2'],loc='lower right')\n",
    "plt.axhline(y=150, color='black', linestyle='--')\n",
    "plt.show()\n",
    "\n",
    "# data\n",
    "df_all['2022-10-02 03:00:00':'2022-10-02 03:00:00']"
   ]
  },
  {
   "cell_type": "markdown",
   "id": "7f555d84-ddea-48a2-a4e5-ec2b3c131287",
   "metadata": {},
   "source": [
    "#### Kejadian banjir 3"
   ]
  },
  {
   "cell_type": "code",
   "execution_count": 9,
   "id": "cd18e1cd-58f8-4ee6-acab-7083c468f59b",
   "metadata": {},
   "outputs": [
    {
     "data": {
      "image/png": "[encoded data removed]",
      "text/plain": [
       "<Figure size 1000x300 with 1 Axes>"
      ]
     },
     "metadata": {},
     "output_type": "display_data"
    },
    {
     "data": {
      "text/html": [
       "<div>\n",
       "<style scoped>\n",
       "    .dataframe tbody tr th:only-of-type {\n",
       "        vertical-align: middle;\n",
       "    }\n",
       "\n",
       "    .dataframe tbody tr th {\n",
       "        vertical-align: top;\n",
       "    }\n",
       "\n",
       "    .dataframe thead th {\n",
       "        text-align: right;\n",
       "    }\n",
       "</style>\n",
       "<table border=\"1\" class=\"dataframe\">\n",
       "  <thead>\n",
       "    <tr style=\"text-align: right;\">\n",
       "      <th></th>\n",
       "      <th>height</th>\n",
       "      <th>temp</th>\n",
       "      <th>feelslike</th>\n",
       "      <th>dew</th>\n",
       "      <th>humidity</th>\n",
       "      <th>precip</th>\n",
       "      <th>precipprob</th>\n",
       "      <th>windgust</th>\n",
       "      <th>windspeed</th>\n",
       "      <th>winddir</th>\n",
       "      <th>sealevelpressure</th>\n",
       "      <th>cloudcover</th>\n",
       "      <th>visibility</th>\n",
       "      <th>severerisk</th>\n",
       "    </tr>\n",
       "    <tr>\n",
       "      <th>date</th>\n",
       "      <th></th>\n",
       "      <th></th>\n",
       "      <th></th>\n",
       "      <th></th>\n",
       "      <th></th>\n",
       "      <th></th>\n",
       "      <th></th>\n",
       "      <th></th>\n",
       "      <th></th>\n",
       "      <th></th>\n",
       "      <th></th>\n",
       "      <th></th>\n",
       "      <th></th>\n",
       "      <th></th>\n",
       "    </tr>\n",
       "  </thead>\n",
       "  <tbody>\n",
       "    <tr>\n",
       "      <th>2022-11-11 18:30:00</th>\n",
       "      <td>182.85</td>\n",
       "      <td>20.7</td>\n",
       "      <td>20.7</td>\n",
       "      <td>20.4</td>\n",
       "      <td>98.17</td>\n",
       "      <td>0.5</td>\n",
       "      <td>100</td>\n",
       "      <td>4.7</td>\n",
       "      <td>2.5</td>\n",
       "      <td>205.3</td>\n",
       "      <td>1011</td>\n",
       "      <td>91.7</td>\n",
       "      <td>3.7</td>\n",
       "      <td>10</td>\n",
       "    </tr>\n",
       "  </tbody>\n",
       "</table>\n",
       "</div>"
      ],
      "text/plain": [
       "                     height  temp  feelslike   dew  humidity  precip  \\\n",
       "date                                                                   \n",
       "2022-11-11 18:30:00  182.85  20.7       20.7  20.4     98.17     0.5   \n",
       "\n",
       "                     precipprob  windgust  windspeed  winddir  \\\n",
       "date                                                            \n",
       "2022-11-11 18:30:00         100       4.7        2.5    205.3   \n",
       "\n",
       "                     sealevelpressure  cloudcover  visibility  severerisk  \n",
       "date                                                                       \n",
       "2022-11-11 18:30:00              1011        91.7         3.7          10  "
      ]
     },
     "execution_count": 9,
     "metadata": {},
     "output_type": "execute_result"
    }
   ],
   "source": [
    "# grafik banjir 2\n",
    "plt.figure(figsize=(10, 3))\n",
    "plt.plot(df_all['height']['2022-11-11 12:00:00':'2022-11-11 23:00:00'], '.-')\n",
    "plt.plot(df_all['height']['2022-11-11 18:30:00':'2022-11-11 18:30:00'], 'ro')\n",
    "plt.xlabel('Datetime', fontsize= 12)\n",
    "plt.ylabel('Height (cm)', fontsize= 12)\n",
    "plt.legend(['Height', 'Height saat banjir 3'],loc='lower right')\n",
    "plt.axhline(y=150, color='black', linestyle='--')\n",
    "plt.show()\n",
    "\n",
    "# data\n",
    "df_all['2022-11-11 18:30:00':'2022-11-11 18:30:00']"
   ]
  },
  {
   "cell_type": "markdown",
   "id": "d40342ca-41c3-4142-bb7a-64ef5ae05fce",
   "metadata": {},
   "source": [
    "### Defining Label\n",
    "\n",
    "Dari ketiga kejadian banjir, banjir terjadi saat tinggi air > 150 cm. Jadi, label akan dibagi menjadi 3 tingkatan:\n",
    "- siaga 0 (aman), tinggi air <= 100 cm\n",
    "- siaga 1 (waspada), 100 cm < tinggi air <= 150 cm\n",
    "- siaga 2 (bahaya), tinggi air > 150 cm"
   ]
  },
  {
   "cell_type": "code",
   "execution_count": 10,
   "id": "f9291337-bed2-4d6a-be1b-be2c3ce16c38",
   "metadata": {},
   "outputs": [],
   "source": [
    "# define aman=0, siaga 1=1, siaga 2=2\n",
    "df['status'] = np.where(df['height'] <= 100, 0, \n",
    "                        np.where(df['height'] <= 150, 1, \n",
    "                                 2))"
   ]
  },
  {
   "cell_type": "code",
   "execution_count": 14,
   "id": "bb1db544-7a6e-4d94-91d5-1e7d71d42547",
   "metadata": {},
   "outputs": [
    {
     "data": {
      "text/html": [
       "<div>\n",
       "<style scoped>\n",
       "    .dataframe tbody tr th:only-of-type {\n",
       "        vertical-align: middle;\n",
       "    }\n",
       "\n",
       "    .dataframe tbody tr th {\n",
       "        vertical-align: top;\n",
       "    }\n",
       "\n",
       "    .dataframe thead th {\n",
       "        text-align: right;\n",
       "    }\n",
       "</style>\n",
       "<table border=\"1\" class=\"dataframe\">\n",
       "  <thead>\n",
       "    <tr style=\"text-align: right;\">\n",
       "      <th></th>\n",
       "      <th>date</th>\n",
       "      <th>height</th>\n",
       "      <th>status</th>\n",
       "    </tr>\n",
       "  </thead>\n",
       "  <tbody>\n",
       "    <tr>\n",
       "      <th>10290</th>\n",
       "      <td>13/08/2022 11:00</td>\n",
       "      <td>38.91</td>\n",
       "      <td>0</td>\n",
       "    </tr>\n",
       "    <tr>\n",
       "      <th>9270</th>\n",
       "      <td>06/08/2022 09:00</td>\n",
       "      <td>34.14</td>\n",
       "      <td>0</td>\n",
       "    </tr>\n",
       "    <tr>\n",
       "      <th>13230</th>\n",
       "      <td>02/09/2022 21:00</td>\n",
       "      <td>182.73</td>\n",
       "      <td>2</td>\n",
       "    </tr>\n",
       "    <tr>\n",
       "      <th>1343</th>\n",
       "      <td>12/06/2022 07:50</td>\n",
       "      <td>98.95</td>\n",
       "      <td>0</td>\n",
       "    </tr>\n",
       "    <tr>\n",
       "      <th>6367</th>\n",
       "      <td>17/07/2022 05:10</td>\n",
       "      <td>28.39</td>\n",
       "      <td>0</td>\n",
       "    </tr>\n",
       "  </tbody>\n",
       "</table>\n",
       "</div>"
      ],
      "text/plain": [
       "                   date  height  status\n",
       "10290  13/08/2022 11:00   38.91       0\n",
       "9270   06/08/2022 09:00   34.14       0\n",
       "13230  02/09/2022 21:00  182.73       2\n",
       "1343   12/06/2022 07:50   98.95       0\n",
       "6367   17/07/2022 05:10   28.39       0"
      ]
     },
     "execution_count": 14,
     "metadata": {},
     "output_type": "execute_result"
    }
   ],
   "source": [
    "df[['date','height','status']].sample(5)"
   ]
  },
  {
   "cell_type": "code",
   "execution_count": 15,
   "id": "fefa35d6-5ca2-464c-b69d-e3d606ea0c0b",
   "metadata": {},
   "outputs": [
    {
     "data": {
      "text/plain": [
       "0    13427\n",
       "1      433\n",
       "2      140\n",
       "Name: status, dtype: int64"
      ]
     },
     "execution_count": 15,
     "metadata": {},
     "output_type": "execute_result"
    }
   ],
   "source": [
    "df['status'].value_counts()"
   ]
  },
  {
   "cell_type": "markdown",
   "id": "d9d424c3-20d5-4523-9772-1f31d747a332",
   "metadata": {},
   "source": [
    "## - DATA PREPROCESSING"
   ]
  },
  {
   "cell_type": "code",
   "execution_count": 16,
   "id": "c3734351-6cb4-44ab-8d1a-20366af8864d",
   "metadata": {},
   "outputs": [
    {
     "data": {
      "text/plain": [
       "((10080, 1), (10080, 1), (2800, 1), (2800, 1), (1120, 1), (1120, 1))"
      ]
     },
     "execution_count": 16,
     "metadata": {},
     "output_type": "execute_result"
    }
   ],
   "source": [
    "# Membagi fitur/prediktor dan label\n",
    "X = df[['height']]\n",
    "y = df[['status']]\n",
    "\n",
    "# Split dataset menjadi train, val, dan test\n",
    "X_train, X_val, y_train, y_val = train_test_split(X, y, test_size=0.2, random_state=42)\n",
    "X_train, X_test, y_train, y_test = train_test_split(X_train, y_train, test_size=0.1, random_state=42)\n",
    "\n",
    "# scaling/normalisasi data\n",
    "'''\n",
    "  fit hanya pada data train \n",
    "  agar tidak terjadi data leakage/kebocoran data\n",
    "'''\n",
    "scaler_X = MinMaxScaler().fit(X_train)\n",
    "X_train = scaler_X.transform(X_train)\n",
    "X_val = scaler_X.transform(X_val)\n",
    "X_test = scaler_X.transform(X_test)\n",
    "\n",
    "X_train.shape, y_train.shape, X_val.shape, y_val.shape, X_test.shape, y_test.shape"
   ]
  },
  {
   "cell_type": "code",
   "execution_count": 17,
   "id": "49d28103-5bcb-4eb2-b80d-884a6e1e7153",
   "metadata": {},
   "outputs": [
    {
     "data": {
      "text/plain": [
       "['scaler/scaler_A2/scaler_X_klasifikasi_flood-A2.save']"
      ]
     },
     "execution_count": 17,
     "metadata": {},
     "output_type": "execute_result"
    }
   ],
   "source": [
    "# save scaler\n",
    "import joblib\n",
    "\n",
    "joblib.dump(scaler_X, 'scaler/scaler_A2/scaler_X_klasifikasi_flood-A2.save') "
   ]
  },
  {
   "cell_type": "markdown",
   "id": "5eb38ae2-87e5-4328-b2f5-3672740fa5c0",
   "metadata": {},
   "source": [
    "## - MODELING & RESULT"
   ]
  },
  {
   "cell_type": "markdown",
   "id": "f4708e01-602b-44f0-945f-d863543db954",
   "metadata": {},
   "source": [
    "### Model GRU"
   ]
  },
  {
   "cell_type": "code",
   "execution_count": 18,
   "id": "4438812d-7f8e-46b3-b18d-c97db1717e41",
   "metadata": {},
   "outputs": [
    {
     "name": "stdout",
     "output_type": "stream",
     "text": [
      "Model: \"sequential\"\n",
      "_________________________________________________________________\n",
      " Layer (type)                Output Shape              Param #   \n",
      "=================================================================\n",
      " gru (GRU)                   (None, 32)                3360      \n",
      "                                                                 \n",
      " dense (Dense)               (None, 3)                 99        \n",
      "                                                                 \n",
      "=================================================================\n",
      "Total params: 3,459\n",
      "Trainable params: 3,459\n",
      "Non-trainable params: 0\n",
      "_________________________________________________________________\n"
     ]
    }
   ],
   "source": [
    "# Membuat model GRU\n",
    "model_klasifikasi = Sequential()\n",
    "model_klasifikasi.add(GRU(32, input_shape=(None, 1)))\n",
    "model_klasifikasi.add(Dense(3, activation='softmax'))\n",
    "model_klasifikasi.summary()"
   ]
  },
  {
   "cell_type": "code",
   "execution_count": 19,
   "id": "13a39308-b0ed-44ba-baa3-70bd586b29ff",
   "metadata": {},
   "outputs": [
    {
     "name": "stdout",
     "output_type": "stream",
     "text": [
      "Epoch 1/20\n",
      "315/315 [==============================] - 7s 13ms/step - loss: 0.4118 - accuracy: 0.9586 - val_loss: 0.1981 - val_accuracy: 0.9600\n",
      "Epoch 2/20\n",
      "315/315 [==============================] - 3s 11ms/step - loss: 0.1684 - accuracy: 0.9586 - val_loss: 0.1316 - val_accuracy: 0.9600\n",
      "Epoch 3/20\n",
      "315/315 [==============================] - 3s 10ms/step - loss: 0.1070 - accuracy: 0.9588 - val_loss: 0.0834 - val_accuracy: 0.9614\n",
      "Epoch 4/20\n",
      "315/315 [==============================] - 3s 10ms/step - loss: 0.0716 - accuracy: 0.9655 - val_loss: 0.0615 - val_accuracy: 0.9675\n",
      "Epoch 5/20\n",
      "315/315 [==============================] - 4s 11ms/step - loss: 0.0542 - accuracy: 0.9742 - val_loss: 0.0484 - val_accuracy: 0.9739\n",
      "Epoch 6/20\n",
      "315/315 [==============================] - 3s 11ms/step - loss: 0.0438 - accuracy: 0.9818 - val_loss: 0.0398 - val_accuracy: 0.9825\n",
      "Epoch 7/20\n",
      "315/315 [==============================] - 3s 9ms/step - loss: 0.0363 - accuracy: 0.9866 - val_loss: 0.0331 - val_accuracy: 0.9911\n",
      "Epoch 8/20\n",
      "315/315 [==============================] - 3s 10ms/step - loss: 0.0306 - accuracy: 0.9910 - val_loss: 0.0288 - val_accuracy: 0.9889\n",
      "Epoch 9/20\n",
      "315/315 [==============================] - 3s 9ms/step - loss: 0.0265 - accuracy: 0.9930 - val_loss: 0.0249 - val_accuracy: 0.9954\n",
      "Epoch 10/20\n",
      "315/315 [==============================] - 3s 11ms/step - loss: 0.0230 - accuracy: 0.9949 - val_loss: 0.0216 - val_accuracy: 0.9950\n",
      "Epoch 11/20\n",
      "315/315 [==============================] - 3s 10ms/step - loss: 0.0204 - accuracy: 0.9954 - val_loss: 0.0197 - val_accuracy: 0.9943\n",
      "Epoch 12/20\n",
      "315/315 [==============================] - 3s 9ms/step - loss: 0.0185 - accuracy: 0.9959 - val_loss: 0.0183 - val_accuracy: 0.9929\n",
      "Epoch 13/20\n",
      "315/315 [==============================] - 3s 9ms/step - loss: 0.0166 - accuracy: 0.9969 - val_loss: 0.0163 - val_accuracy: 0.9961\n",
      "Epoch 14/20\n",
      "315/315 [==============================] - 3s 9ms/step - loss: 0.0152 - accuracy: 0.9965 - val_loss: 0.0148 - val_accuracy: 0.9975\n",
      "Epoch 15/20\n",
      "315/315 [==============================] - 3s 11ms/step - loss: 0.0140 - accuracy: 0.9969 - val_loss: 0.0134 - val_accuracy: 0.9964\n",
      "Epoch 16/20\n",
      "315/315 [==============================] - 3s 9ms/step - loss: 0.0129 - accuracy: 0.9972 - val_loss: 0.0127 - val_accuracy: 0.9986\n",
      "Epoch 17/20\n",
      "315/315 [==============================] - 3s 9ms/step - loss: 0.0119 - accuracy: 0.9981 - val_loss: 0.0117 - val_accuracy: 0.9964\n",
      "Epoch 18/20\n",
      "315/315 [==============================] - 3s 10ms/step - loss: 0.0113 - accuracy: 0.9980 - val_loss: 0.0115 - val_accuracy: 0.9954\n",
      "Epoch 19/20\n",
      "315/315 [==============================] - 3s 9ms/step - loss: 0.0106 - accuracy: 0.9981 - val_loss: 0.0112 - val_accuracy: 0.9968\n",
      "Epoch 20/20\n",
      "315/315 [==============================] - 3s 10ms/step - loss: 0.0099 - accuracy: 0.9982 - val_loss: 0.0095 - val_accuracy: 0.9971\n"
     ]
    }
   ],
   "source": [
    "model_klasifikasi.compile(optimizer='adam', \n",
    "                          loss='sparse_categorical_crossentropy', \n",
    "                          metrics=['accuracy'])\n",
    "\n",
    "history_klasifikasi = model_klasifikasi.fit(X_train, y_train, \n",
    "                                            validation_data=(X_val, y_val),\n",
    "                                            epochs=20, batch_size=32)"
   ]
  },
  {
   "cell_type": "code",
   "execution_count": 20,
   "id": "496500f7-cb5b-473d-9f4d-70d731bc8f6d",
   "metadata": {},
   "outputs": [
    {
     "data": {
      "image/png": "[encoded data removed]",
      "text/plain": [
       "<Figure size 1200x400 with 2 Axes>"
      ]
     },
     "metadata": {},
     "output_type": "display_data"
    }
   ],
   "source": [
    "# plot loss & accuracy\n",
    "plt.figure(figsize=(12, 4))\n",
    "    \n",
    "plt.subplot(121) # row , col , index \n",
    "plt.plot(history_klasifikasi.history['loss'])\n",
    "plt.plot(history_klasifikasi.history['val_loss'])\n",
    "plt.ylabel('Loss')\n",
    "plt.xlabel('epoch')\n",
    "plt.legend(['Loss', 'Validation loss'], loc='upper right')\n",
    "\n",
    "plt.subplot(122) \n",
    "plt.plot(history_klasifikasi.history['accuracy'])\n",
    "plt.plot(history_klasifikasi.history['val_accuracy'])\n",
    "plt.ylabel('Accuracy')\n",
    "plt.xlabel('epoch')\n",
    "plt.legend(['Train accuracy', 'Validation accuracy'], loc='lower right')\n",
    "    \n",
    "plt.show()"
   ]
  },
  {
   "cell_type": "code",
   "execution_count": 21,
   "id": "6dbc22c8-8c31-4c78-8a30-4ee69cc00d26",
   "metadata": {},
   "outputs": [
    {
     "data": {
      "text/html": [
       "<div>\n",
       "<style scoped>\n",
       "    .dataframe tbody tr th:only-of-type {\n",
       "        vertical-align: middle;\n",
       "    }\n",
       "\n",
       "    .dataframe tbody tr th {\n",
       "        vertical-align: top;\n",
       "    }\n",
       "\n",
       "    .dataframe thead th {\n",
       "        text-align: right;\n",
       "    }\n",
       "</style>\n",
       "<table border=\"1\" class=\"dataframe\">\n",
       "  <thead>\n",
       "    <tr style=\"text-align: right;\">\n",
       "      <th></th>\n",
       "      <th>loss</th>\n",
       "      <th>accuracy</th>\n",
       "    </tr>\n",
       "  </thead>\n",
       "  <tbody>\n",
       "    <tr>\n",
       "      <th>train</th>\n",
       "      <td>0.00944</td>\n",
       "      <td>0.998413</td>\n",
       "    </tr>\n",
       "    <tr>\n",
       "      <th>val</th>\n",
       "      <td>0.009512</td>\n",
       "      <td>0.997143</td>\n",
       "    </tr>\n",
       "    <tr>\n",
       "      <th>test</th>\n",
       "      <td>0.008699</td>\n",
       "      <td>0.999107</td>\n",
       "    </tr>\n",
       "  </tbody>\n",
       "</table>\n",
       "</div>"
      ],
      "text/plain": [
       "           loss  accuracy\n",
       "train   0.00944  0.998413\n",
       "val    0.009512  0.997143\n",
       "test   0.008699  0.999107"
      ]
     },
     "execution_count": 21,
     "metadata": {},
     "output_type": "execute_result"
    }
   ],
   "source": [
    "# Evaluasi model\n",
    "train_scores = model_klasifikasi.evaluate(X_train, y_train, verbose=0)\n",
    "val_scores = model_klasifikasi.evaluate(X_val, y_val, verbose=0)\n",
    "test_scores = model_klasifikasi.evaluate(X_test, y_test, verbose=0)\n",
    "\n",
    "# dataframe untuk evaluasi model\n",
    "df_eval = pd.DataFrame(index=['train', 'val', 'test'],\n",
    "                       columns=['loss', 'accuracy'])\n",
    "\n",
    "df_eval.loc['train', 'loss']=train_scores[0]\n",
    "df_eval.loc['train', 'accuracy']=train_scores[1]\n",
    "\n",
    "df_eval.loc['val', 'loss']=val_scores[0]\n",
    "df_eval.loc['val', 'accuracy']=val_scores[1]\n",
    "\n",
    "df_eval.loc['test', 'loss']=test_scores[0]\n",
    "df_eval.loc['test', 'accuracy']=test_scores[1]\n",
    "\n",
    "df_eval"
   ]
  },
  {
   "cell_type": "markdown",
   "id": "3c773a2c-efdf-4bd9-a1ae-edf0d1681fca",
   "metadata": {},
   "source": [
    "### Result"
   ]
  },
  {
   "cell_type": "markdown",
   "id": "89cb3443-f996-4a51-ac63-1204db67e542",
   "metadata": {},
   "source": [
    "#### Satu data"
   ]
  },
  {
   "cell_type": "code",
   "execution_count": 22,
   "id": "e851d2e6-f9b4-4943-a65f-6e5760e502c4",
   "metadata": {},
   "outputs": [
    {
     "data": {
      "text/html": [
       "<div>\n",
       "<style scoped>\n",
       "    .dataframe tbody tr th:only-of-type {\n",
       "        vertical-align: middle;\n",
       "    }\n",
       "\n",
       "    .dataframe tbody tr th {\n",
       "        vertical-align: top;\n",
       "    }\n",
       "\n",
       "    .dataframe thead th {\n",
       "        text-align: right;\n",
       "    }\n",
       "</style>\n",
       "<table border=\"1\" class=\"dataframe\">\n",
       "  <thead>\n",
       "    <tr style=\"text-align: right;\">\n",
       "      <th></th>\n",
       "      <th>height_scaled</th>\n",
       "      <th>height</th>\n",
       "    </tr>\n",
       "  </thead>\n",
       "  <tbody>\n",
       "    <tr>\n",
       "      <th>0</th>\n",
       "      <td>0.063227</td>\n",
       "      <td>33.5</td>\n",
       "    </tr>\n",
       "  </tbody>\n",
       "</table>\n",
       "</div>"
      ],
      "text/plain": [
       "   height_scaled  height\n",
       "0       0.063227    33.5"
      ]
     },
     "execution_count": 22,
     "metadata": {},
     "output_type": "execute_result"
    }
   ],
   "source": [
    "#sample_test = X_test.reshape(-1)\n",
    "sample_test = pd.DataFrame(X_test, columns = ['height_scaled'])\n",
    "sample_test = sample_test.sample(1).reset_index(drop=True)\n",
    "\n",
    "# inverse transform\n",
    "sample_test_inverse = scaler_X.inverse_transform(sample_test[['height_scaled']])\n",
    "sample_test_inverse = pd.DataFrame(sample_test_inverse,columns = ['height'])\n",
    "\n",
    "sample_test=sample_test.join(sample_test_inverse)\n",
    "sample_test"
   ]
  },
  {
   "cell_type": "code",
   "execution_count": 23,
   "id": "e4c0f0d7-5892-49f2-9465-81fea8c6c62b",
   "metadata": {},
   "outputs": [
    {
     "name": "stdout",
     "output_type": "stream",
     "text": [
      "1/1 [==============================] - 0s 375ms/step\n"
     ]
    },
    {
     "data": {
      "text/plain": [
       "array([0], dtype=int64)"
      ]
     },
     "execution_count": 23,
     "metadata": {},
     "output_type": "execute_result"
    }
   ],
   "source": [
    "pred = model_klasifikasi.predict(sample_test[['height_scaled']])\n",
    "pred = np.argmax(pred, axis=1)\n",
    "pred"
   ]
  },
  {
   "cell_type": "code",
   "execution_count": 24,
   "id": "b262ade2-3658-4a01-8d31-b14854bd5557",
   "metadata": {},
   "outputs": [
    {
     "data": {
      "text/html": [
       "<div>\n",
       "<style scoped>\n",
       "    .dataframe tbody tr th:only-of-type {\n",
       "        vertical-align: middle;\n",
       "    }\n",
       "\n",
       "    .dataframe tbody tr th {\n",
       "        vertical-align: top;\n",
       "    }\n",
       "\n",
       "    .dataframe thead th {\n",
       "        text-align: right;\n",
       "    }\n",
       "</style>\n",
       "<table border=\"1\" class=\"dataframe\">\n",
       "  <thead>\n",
       "    <tr style=\"text-align: right;\">\n",
       "      <th></th>\n",
       "      <th>height_scaled</th>\n",
       "      <th>height</th>\n",
       "      <th>status_pred</th>\n",
       "    </tr>\n",
       "  </thead>\n",
       "  <tbody>\n",
       "    <tr>\n",
       "      <th>0</th>\n",
       "      <td>0.063227</td>\n",
       "      <td>33.5</td>\n",
       "      <td>0</td>\n",
       "    </tr>\n",
       "  </tbody>\n",
       "</table>\n",
       "</div>"
      ],
      "text/plain": [
       "   height_scaled  height  status_pred\n",
       "0       0.063227    33.5            0"
      ]
     },
     "execution_count": 24,
     "metadata": {},
     "output_type": "execute_result"
    }
   ],
   "source": [
    "pred = pd.DataFrame(pred,columns = ['status_pred'])\n",
    "prediksi = sample_test.join(pred)\n",
    "\n",
    "prediksi"
   ]
  },
  {
   "cell_type": "markdown",
   "id": "ab80dc7a-2d62-44d3-bc59-04f9bb3c7183",
   "metadata": {},
   "source": [
    "#### Banyak data"
   ]
  },
  {
   "cell_type": "code",
   "execution_count": 25,
   "id": "4c64413c-1213-41f2-a830-8378b10a30d5",
   "metadata": {},
   "outputs": [
    {
     "data": {
      "text/html": [
       "<div>\n",
       "<style scoped>\n",
       "    .dataframe tbody tr th:only-of-type {\n",
       "        vertical-align: middle;\n",
       "    }\n",
       "\n",
       "    .dataframe tbody tr th {\n",
       "        vertical-align: top;\n",
       "    }\n",
       "\n",
       "    .dataframe thead th {\n",
       "        text-align: right;\n",
       "    }\n",
       "</style>\n",
       "<table border=\"1\" class=\"dataframe\">\n",
       "  <thead>\n",
       "    <tr style=\"text-align: right;\">\n",
       "      <th></th>\n",
       "      <th>height_scaled</th>\n",
       "      <th>height</th>\n",
       "    </tr>\n",
       "  </thead>\n",
       "  <tbody>\n",
       "    <tr>\n",
       "      <th>0</th>\n",
       "      <td>0.189078</td>\n",
       "      <td>56.43</td>\n",
       "    </tr>\n",
       "    <tr>\n",
       "      <th>1</th>\n",
       "      <td>0.938419</td>\n",
       "      <td>192.96</td>\n",
       "    </tr>\n",
       "    <tr>\n",
       "      <th>2</th>\n",
       "      <td>0.320637</td>\n",
       "      <td>80.40</td>\n",
       "    </tr>\n",
       "    <tr>\n",
       "      <th>3</th>\n",
       "      <td>0.045499</td>\n",
       "      <td>30.27</td>\n",
       "    </tr>\n",
       "    <tr>\n",
       "      <th>4</th>\n",
       "      <td>0.287377</td>\n",
       "      <td>74.34</td>\n",
       "    </tr>\n",
       "    <tr>\n",
       "      <th>5</th>\n",
       "      <td>0.181778</td>\n",
       "      <td>55.10</td>\n",
       "    </tr>\n",
       "  </tbody>\n",
       "</table>\n",
       "</div>"
      ],
      "text/plain": [
       "   height_scaled  height\n",
       "0       0.189078   56.43\n",
       "1       0.938419  192.96\n",
       "2       0.320637   80.40\n",
       "3       0.045499   30.27\n",
       "4       0.287377   74.34\n",
       "5       0.181778   55.10"
      ]
     },
     "execution_count": 25,
     "metadata": {},
     "output_type": "execute_result"
    }
   ],
   "source": [
    "#sample_test = X_test.reshape(-1)\n",
    "sample_test = pd.DataFrame(X_test, columns = ['height_scaled'])\n",
    "sample_test = sample_test.sample(6).reset_index(drop=True)\n",
    "\n",
    "# inverse transform\n",
    "sample_test_inverse = scaler_X.inverse_transform(sample_test[['height_scaled']])\n",
    "sample_test_inverse = pd.DataFrame(sample_test_inverse,columns = ['height'])\n",
    "\n",
    "sample_test=sample_test.join(sample_test_inverse)\n",
    "sample_test"
   ]
  },
  {
   "cell_type": "code",
   "execution_count": 26,
   "id": "19a475bb-2019-433f-8bab-05d262848ba6",
   "metadata": {},
   "outputs": [
    {
     "name": "stdout",
     "output_type": "stream",
     "text": [
      "1/1 [==============================] - 0s 49ms/step\n"
     ]
    },
    {
     "data": {
      "text/plain": [
       "array([0, 2, 0, 0, 0, 0], dtype=int64)"
      ]
     },
     "execution_count": 26,
     "metadata": {},
     "output_type": "execute_result"
    }
   ],
   "source": [
    "pred = model_klasifikasi.predict(sample_test[['height_scaled']])\n",
    "pred = np.argmax(pred, axis=1)\n",
    "pred"
   ]
  },
  {
   "cell_type": "code",
   "execution_count": 27,
   "id": "60b00821-8fad-44b3-b06c-f556a852b5dc",
   "metadata": {},
   "outputs": [
    {
     "data": {
      "text/html": [
       "<div>\n",
       "<style scoped>\n",
       "    .dataframe tbody tr th:only-of-type {\n",
       "        vertical-align: middle;\n",
       "    }\n",
       "\n",
       "    .dataframe tbody tr th {\n",
       "        vertical-align: top;\n",
       "    }\n",
       "\n",
       "    .dataframe thead th {\n",
       "        text-align: right;\n",
       "    }\n",
       "</style>\n",
       "<table border=\"1\" class=\"dataframe\">\n",
       "  <thead>\n",
       "    <tr style=\"text-align: right;\">\n",
       "      <th></th>\n",
       "      <th>height_scaled</th>\n",
       "      <th>height</th>\n",
       "      <th>status_pred</th>\n",
       "    </tr>\n",
       "  </thead>\n",
       "  <tbody>\n",
       "    <tr>\n",
       "      <th>0</th>\n",
       "      <td>0.189078</td>\n",
       "      <td>56.43</td>\n",
       "      <td>0</td>\n",
       "    </tr>\n",
       "    <tr>\n",
       "      <th>1</th>\n",
       "      <td>0.938419</td>\n",
       "      <td>192.96</td>\n",
       "      <td>2</td>\n",
       "    </tr>\n",
       "    <tr>\n",
       "      <th>2</th>\n",
       "      <td>0.320637</td>\n",
       "      <td>80.40</td>\n",
       "      <td>0</td>\n",
       "    </tr>\n",
       "    <tr>\n",
       "      <th>3</th>\n",
       "      <td>0.045499</td>\n",
       "      <td>30.27</td>\n",
       "      <td>0</td>\n",
       "    </tr>\n",
       "    <tr>\n",
       "      <th>4</th>\n",
       "      <td>0.287377</td>\n",
       "      <td>74.34</td>\n",
       "      <td>0</td>\n",
       "    </tr>\n",
       "    <tr>\n",
       "      <th>5</th>\n",
       "      <td>0.181778</td>\n",
       "      <td>55.10</td>\n",
       "      <td>0</td>\n",
       "    </tr>\n",
       "  </tbody>\n",
       "</table>\n",
       "</div>"
      ],
      "text/plain": [
       "   height_scaled  height  status_pred\n",
       "0       0.189078   56.43            0\n",
       "1       0.938419  192.96            2\n",
       "2       0.320637   80.40            0\n",
       "3       0.045499   30.27            0\n",
       "4       0.287377   74.34            0\n",
       "5       0.181778   55.10            0"
      ]
     },
     "execution_count": 27,
     "metadata": {},
     "output_type": "execute_result"
    }
   ],
   "source": [
    "pred = pd.DataFrame(pred,columns = ['status_pred'])\n",
    "prediksi = sample_test.join(pred)\n",
    "\n",
    "prediksi"
   ]
  },
  {
   "cell_type": "markdown",
   "id": "e8e37c98-0862-4e62-a534-ba9a4724eb67",
   "metadata": {},
   "source": [
    "## - SAVE MODEL"
   ]
  },
  {
   "cell_type": "code",
   "execution_count": 28,
   "id": "3089b2be-4841-41a0-a968-50a73ee8f34d",
   "metadata": {},
   "outputs": [],
   "source": [
    "# save model dalam format .h5\n",
    "model_klasifikasi.save('model/model_A2/model_klasifikasi_flood-A2.h5')"
   ]
  },
  {
   "cell_type": "code",
   "execution_count": 29,
   "id": "f77070b4-7ad7-4f70-87ee-7db51203eb33",
   "metadata": {},
   "outputs": [],
   "source": [
    "# # Memuat model dari format HDF5\n",
    "from tensorflow.keras.models import load_model\n",
    "loaded_model = load_model('model/model_A2/model_klasifikasi_flood-A2.h5')"
   ]
  },
  {
   "cell_type": "code",
   "execution_count": 30,
   "id": "2699901f-7e97-4ae1-91e4-519464e64fcb",
   "metadata": {},
   "outputs": [
    {
     "data": {
      "text/html": [
       "<div>\n",
       "<style scoped>\n",
       "    .dataframe tbody tr th:only-of-type {\n",
       "        vertical-align: middle;\n",
       "    }\n",
       "\n",
       "    .dataframe tbody tr th {\n",
       "        vertical-align: top;\n",
       "    }\n",
       "\n",
       "    .dataframe thead th {\n",
       "        text-align: right;\n",
       "    }\n",
       "</style>\n",
       "<table border=\"1\" class=\"dataframe\">\n",
       "  <thead>\n",
       "    <tr style=\"text-align: right;\">\n",
       "      <th></th>\n",
       "      <th>loss</th>\n",
       "      <th>accuracy</th>\n",
       "    </tr>\n",
       "  </thead>\n",
       "  <tbody>\n",
       "    <tr>\n",
       "      <th>train</th>\n",
       "      <td>0.00944</td>\n",
       "      <td>0.998413</td>\n",
       "    </tr>\n",
       "    <tr>\n",
       "      <th>val</th>\n",
       "      <td>0.009512</td>\n",
       "      <td>0.997143</td>\n",
       "    </tr>\n",
       "    <tr>\n",
       "      <th>test</th>\n",
       "      <td>0.008699</td>\n",
       "      <td>0.999107</td>\n",
       "    </tr>\n",
       "  </tbody>\n",
       "</table>\n",
       "</div>"
      ],
      "text/plain": [
       "           loss  accuracy\n",
       "train   0.00944  0.998413\n",
       "val    0.009512  0.997143\n",
       "test   0.008699  0.999107"
      ]
     },
     "execution_count": 30,
     "metadata": {},
     "output_type": "execute_result"
    }
   ],
   "source": [
    "# Evaluasi model\n",
    "train_scores = loaded_model.evaluate(X_train, y_train, verbose=0)\n",
    "val_scores = loaded_model.evaluate(X_val, y_val, verbose=0)\n",
    "test_scores = loaded_model.evaluate(X_test, y_test, verbose=0)\n",
    "\n",
    "# dataframe untuk evaluasi model\n",
    "df_eval = pd.DataFrame(index=['train', 'val', 'test'],\n",
    "                       columns=['loss', 'accuracy'])\n",
    "\n",
    "df_eval.loc['train', 'loss']=train_scores[0]\n",
    "df_eval.loc['train', 'accuracy']=train_scores[1]\n",
    "\n",
    "df_eval.loc['val', 'loss']=val_scores[0]\n",
    "df_eval.loc['val', 'accuracy']=val_scores[1]\n",
    "\n",
    "df_eval.loc['test', 'loss']=test_scores[0]\n",
    "df_eval.loc['test', 'accuracy']=test_scores[1]\n",
    "\n",
    "df_eval"
   ]
  },
  {
   "cell_type": "markdown",
   "id": "e913b4d8-76c0-45e5-ba40-92f3a963d0bf",
   "metadata": {},
   "source": [
    "---"
   ]
  }
 ],
 "metadata": {
  "kernelspec": {
   "display_name": "Python 3 (ipykernel)",
   "language": "python",
   "name": "python3"
  },
  "language_info": {
   "codemirror_mode": {
    "name": "ipython",
    "version": 3
   },
   "file_extension": ".py",
   "mimetype": "text/x-python",
   "name": "python",
   "nbconvert_exporter": "python",
   "pygments_lexer": "ipython3",
   "version": "3.9.16"
  }
 },
 "nbformat": 4,
 "nbformat_minor": 5
}
