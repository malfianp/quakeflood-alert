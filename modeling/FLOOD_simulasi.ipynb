{
 "cells": [
  {
   "cell_type": "markdown",
   "id": "dd6c9e03-b29c-472a-94d5-723f0d290763",
   "metadata": {},
   "source": [
    "# BANJIR: SIMULASI (Prediksi dan Klasifikasi)"
   ]
  },
  {
   "cell_type": "code",
   "execution_count": 1,
   "id": "35a8a00d-1c48-4729-99a1-bfe1c3bc3208",
   "metadata": {},
   "outputs": [],
   "source": [
    "# import libraries\n",
    "import pandas as pd\n",
    "import numpy as np\n",
    "import matplotlib.pyplot as plt\n",
    "import joblib\n",
    "from keras.models import load_model"
   ]
  },
  {
   "cell_type": "code",
   "execution_count": 2,
   "id": "cd571b74-29fe-48e2-8363-3b050666bb28",
   "metadata": {},
   "outputs": [],
   "source": [
    "# functions\n",
    "def get_X_klasifikasi(data, date):\n",
    "    X_klasifikasi = data.loc[data['date'] == date].reset_index(drop=True)\n",
    "    X_klasifikasi = X_klasifikasi[['date','height']]\n",
    "    return X_klasifikasi\n",
    "\n",
    "def klasifikasi_banjir(X,scaler_X,model):\n",
    "    # scaling\n",
    "    X_klasifikasi_scaled = scaler_X.transform(X[['height']])\n",
    "    # predict\n",
    "    y_klasifikasi = model.predict(X_klasifikasi_scaled,verbose=0)\n",
    "    y_klasifikasi = np.argmax(y_klasifikasi, axis=1)\n",
    "    # df\n",
    "    y_klasifikasi = pd.DataFrame(y_klasifikasi,columns = ['status'])\n",
    "    df_klasifikasi = X.join(y_klasifikasi)\n",
    "    return df_klasifikasi\n",
    "    \n",
    "def get_X_prediksi(data, date):\n",
    "    data_history = data.loc[data['date'] <= date].head(500).sort_values(by=['date']).reset_index(drop=True) # 288+108=396, 400>396\n",
    "    data_history['cloudcover_3h'] = data_history['cloudcover'].shift(18)\n",
    "    data_history['humidity_18h'] = data_history['humidity'].shift(108)\n",
    "    data_history['height_diff_18h'] = data_history['height'] - data_history['height'].shift(108)\n",
    "    data_history = data_history.dropna().tail(288).reset_index(drop = True)\n",
    "    data_history = data_history[['date','height','windgust','cloudcover_3h','humidity_18h','height_diff_18h']]\n",
    "    return data_history\n",
    "\n",
    "def prediksi_banjir(data, date, X, scaler_X, scaler_y, model):\n",
    "    # X\n",
    "    X_prediksi = X[['height','windgust','cloudcover_3h','humidity_18h','height_diff_18h']]\n",
    "    # scaling\n",
    "    X_prediksi_scaled = scaler_X.transform(X_prediksi)\n",
    "    # reshape \n",
    "    X_prediksi_scaled = X_prediksi_scaled.reshape(1,288,5)\n",
    "    # predict\n",
    "    y_prediksi = model.predict(X_prediksi_scaled,verbose=0)\n",
    "    # reshape\n",
    "    y_prediksi = y_prediksi.reshape(36,1)\n",
    "    # inverse scaling\n",
    "    y_prediksi_inverse = scaler_y.inverse_transform(y_prediksi)\n",
    "    y_prediksi_inverse = pd.DataFrame(y_prediksi_inverse, columns = ['height'])\n",
    "    # DATA FUTURE\n",
    "    data_future = data.loc[data['date'] > date].tail(36).sort_values(by=['date']).reset_index(drop=True)# 36=step\n",
    "    data_future = data_future[['date','height']].rename(columns = {'height':'height_true'})\n",
    "    # DF PRED\n",
    "    df_pred = data_future.join(y_prediksi_inverse)\n",
    "    return df_pred\n",
    "\n",
    "    \n",
    "def get_info(y_klasifikasi, X, y_pred_status):\n",
    "    date = y_klasifikasi['date'][0]\n",
    "    height = y_klasifikasi['height'][0]\n",
    "    status = y_klasifikasi['status'][0]\n",
    "    \n",
    "    # Info klasifikasi\n",
    "    print('-----------------------------------------------------------------------------')\n",
    "    print('Datetime            :', date)\n",
    "    print('Ketinggian sekarang :', height.round(2), 'cm')\n",
    "\n",
    "    # kondisi status\n",
    "    if status == 0:\n",
    "        print('Status sekarang     : SIAGA 0\\n')\n",
    "        if (y_pred_status['status']==0).all():                                                                    # jika semua siaga 0\n",
    "            print('Info : [AMAN] Dalam 6 jam kedepan diperkirakan akan tetap berstatus SIAGA 0.')\n",
    "            print('        Tidak akan terjadi banjir.')\n",
    "        elif (y_pred_status['status'] == 1).any() and not (y_pred_status['status'] == 2).any():                   # jika ada siaga 1 dan tidak ada siaga 2\n",
    "            t_siaga1_start = (y_pred_status[y_pred_status['status'] == 1].index.min()+1) * 10\n",
    "            print(f'Info : [WASPADA] Dalam {t_siaga1_start} menit kedepan diperkirakan akan berstatus SIAGA 1.')\n",
    "            print('        Harap pantau ketinggian air secara berkala.')\n",
    "        elif (y_pred_status['status'] == 2).any():                                                                # jika ada siaga 2\n",
    "            t_siaga2_start = (y_pred_status[y_pred_status['status'] == 2].index.min()+1) * 10\n",
    "            print(f'Info : [BAHAYA] Dalam {t_siaga2_start} menit kedepan diperkirakan akan berstatus SIAGA 2.')\n",
    "            print('        Berkemungkinan terjadi banjir, segera lakukan evakuasi.')\n",
    "        else: print('Info : -')\n",
    "    \n",
    "    elif status == 1:\n",
    "        print('Status sekarang     : SIAGA 1\\n')\n",
    "        if (y_pred_status['status']==0).all():\n",
    "            print('Info : [AMAN] Dalam 10 menit kedepan diperkirakan akan berstatus SIAGA 0.')\n",
    "            print('        Tidak akan terjadi banjir.')\n",
    "        elif (y_pred_status['status']==0).any() and not (y_pred_status['status'] == 2).any():\n",
    "            t_siaga1_end = (y_pred_status[y_pred_status['status'] == 1].index.max()+2) * 10\n",
    "            print(f'Info : [AMAN] Dalam {t_siaga1_end} menit kedepan diperkirakan akan berstatus SIAGA 0.')\n",
    "            print('        Tidak akan terjadi banjir.')\n",
    "        elif (y_pred_status['status']==1).all():\n",
    "            print('Info : [WASPADA] Dalam 6 jam kedepan diperkirakan akan tetap berstatus SIAGA 1.')\n",
    "            print('        Harap pantau ketinggian air secara berkala.')\n",
    "        elif (y_pred_status['status']==2).any():\n",
    "            t_siaga2_start = (y_pred_status[y_pred_status['status'] == 2].index.min()+1) * 10\n",
    "            print(f'Info : [BAHAYA] Dalam {t_siaga2_start} menit kedepan diperkirakan akan berstatus SIAGA 2.')\n",
    "            print('        Berkemungkinan terjadi banjir, segera lakukan evakuasi.')\n",
    "        else: print('Info : -')\n",
    "        \n",
    "    elif status == 2:\n",
    "        print('Status sekarang     : SIAGA 2\\n')\n",
    "        if not (y_pred_status['status']==2).any():\n",
    "            print('Info : [WASPADA] Dalam 10 menit kedepan diperkirakan status SIAGA 2 akan berakhir.')\n",
    "            print('        Harap pantau ketinggian air secara berkala.')\n",
    "        elif (y_pred_status['status']==2).any() and not (y_pred_status['status']==2).all():\n",
    "            t_siaga2_end = (y_pred_status[y_pred_status['status'] == 2].index.max()+2) * 10\n",
    "            print(f'Info : [BAHAYA] Dalam {t_siaga2_end} menit kedepan diperkirakan masih berstatus SIAGA 2.')\n",
    "            print('        Berkemungkinan terjadi banjir, segera lakukan evakuasi.')\n",
    "        elif (y_pred_status['status']==2).all():\n",
    "            print('Info : [BAHAYA] Dalam 6 jam kedepan diperkirakan akan tetap berstatus SIAGA 2.')\n",
    "            print('        Berkemungkinan terjadi banjir, segera lakukan evakuasi.')\n",
    "        else: print('Info : -')\n",
    "\n",
    "    print('-----------------------------------------------------------------------------')\n",
    "    \n",
    "    # Plot    \n",
    "    history = X.reset_index()\n",
    "    history['index'] = history['index'] - 287\n",
    "    history = history.set_index('index')\n",
    "    fig = plt.figure(figsize=(10, 4))\n",
    "    fig = plt.plot(history['height'], 'k.', label='history')\n",
    "    fig = plt.plot(history['height'].tail(1), 'yo', label='now')\n",
    "    fig = plt.plot(y_pred_status['height_true'], '.', label='height true')\n",
    "    fig = plt.plot(y_pred_status['height'], 'r.', label='height pred')\n",
    "    fig = plt.ylabel('Height (cm)')\n",
    "    fig = plt.xlabel('Step')\n",
    "    fig = plt.title('Plot Prediksi Banjir 6 jam kedepan', fontweight='bold', fontsize=12)\n",
    "    fig = plt.legend(loc='upper left')\n",
    "    display('Plot Prediksi :', fig)\n"
   ]
  },
  {
   "cell_type": "code",
   "execution_count": 3,
   "id": "7282a8ed-2f06-4e45-89ab-7effd3593a3a",
   "metadata": {},
   "outputs": [],
   "source": [
    "# load scaler & model\n",
    "scaler_X_klasifikasi = joblib.load('scaler/scaler_A2/scaler_X_klasifikasi_flood-A2.save')\n",
    "model_klasifikasi_banjir = load_model('model/model_A2/model_klasifikasi_flood-A2.h5')\n",
    "\n",
    "scaler_X_prediksi = joblib.load('scaler/scaler_A2/scaler_X_prediksi_flood-A2.save') \n",
    "scaler_y_prediksi = joblib.load('scaler/scaler_A2/scaler_y_prediksi_flood-A2.save') \n",
    "model_prediksi_banjir = load_model('model/model_A2/model_prediksi_flood-A2.h5')"
   ]
  },
  {
   "cell_type": "code",
   "execution_count": 4,
   "id": "72d98878-6331-48c5-92fc-e3654481d8c5",
   "metadata": {},
   "outputs": [
    {
     "data": {
      "text/html": [
       "<div>\n",
       "<style scoped>\n",
       "    .dataframe tbody tr th:only-of-type {\n",
       "        vertical-align: middle;\n",
       "    }\n",
       "\n",
       "    .dataframe tbody tr th {\n",
       "        vertical-align: top;\n",
       "    }\n",
       "\n",
       "    .dataframe thead th {\n",
       "        text-align: right;\n",
       "    }\n",
       "</style>\n",
       "<table border=\"1\" class=\"dataframe\">\n",
       "  <thead>\n",
       "    <tr style=\"text-align: right;\">\n",
       "      <th></th>\n",
       "      <th>date</th>\n",
       "      <th>height</th>\n",
       "      <th>temp</th>\n",
       "      <th>feelslike</th>\n",
       "      <th>dew</th>\n",
       "      <th>humidity</th>\n",
       "      <th>precip</th>\n",
       "      <th>precipprob</th>\n",
       "      <th>windgust</th>\n",
       "      <th>windspeed</th>\n",
       "      <th>winddir</th>\n",
       "      <th>sealevelpressure</th>\n",
       "      <th>cloudcover</th>\n",
       "      <th>visibility</th>\n",
       "      <th>severerisk</th>\n",
       "    </tr>\n",
       "  </thead>\n",
       "  <tbody>\n",
       "    <tr>\n",
       "      <th>0</th>\n",
       "      <td>2022-09-30 10:30:00</td>\n",
       "      <td>66.71</td>\n",
       "      <td>26.8</td>\n",
       "      <td>28.1</td>\n",
       "      <td>19.6</td>\n",
       "      <td>64.70</td>\n",
       "      <td>0.0</td>\n",
       "      <td>0</td>\n",
       "      <td>8.6</td>\n",
       "      <td>5.4</td>\n",
       "      <td>292.1</td>\n",
       "      <td>1011</td>\n",
       "      <td>100.0</td>\n",
       "      <td>24.1</td>\n",
       "      <td>10</td>\n",
       "    </tr>\n",
       "    <tr>\n",
       "      <th>1</th>\n",
       "      <td>2022-09-30 10:20:00</td>\n",
       "      <td>66.91</td>\n",
       "      <td>26.8</td>\n",
       "      <td>28.1</td>\n",
       "      <td>19.6</td>\n",
       "      <td>64.70</td>\n",
       "      <td>0.0</td>\n",
       "      <td>0</td>\n",
       "      <td>8.6</td>\n",
       "      <td>5.4</td>\n",
       "      <td>292.1</td>\n",
       "      <td>1011</td>\n",
       "      <td>100.0</td>\n",
       "      <td>24.1</td>\n",
       "      <td>10</td>\n",
       "    </tr>\n",
       "    <tr>\n",
       "      <th>2</th>\n",
       "      <td>2022-09-30 10:10:00</td>\n",
       "      <td>66.71</td>\n",
       "      <td>26.8</td>\n",
       "      <td>28.1</td>\n",
       "      <td>19.6</td>\n",
       "      <td>64.70</td>\n",
       "      <td>0.0</td>\n",
       "      <td>0</td>\n",
       "      <td>8.6</td>\n",
       "      <td>5.4</td>\n",
       "      <td>292.1</td>\n",
       "      <td>1011</td>\n",
       "      <td>100.0</td>\n",
       "      <td>24.1</td>\n",
       "      <td>10</td>\n",
       "    </tr>\n",
       "    <tr>\n",
       "      <th>3</th>\n",
       "      <td>2022-09-30 10:00:00</td>\n",
       "      <td>66.38</td>\n",
       "      <td>26.8</td>\n",
       "      <td>28.1</td>\n",
       "      <td>19.6</td>\n",
       "      <td>64.70</td>\n",
       "      <td>0.0</td>\n",
       "      <td>0</td>\n",
       "      <td>8.6</td>\n",
       "      <td>5.4</td>\n",
       "      <td>292.1</td>\n",
       "      <td>1011</td>\n",
       "      <td>100.0</td>\n",
       "      <td>24.1</td>\n",
       "      <td>10</td>\n",
       "    </tr>\n",
       "    <tr>\n",
       "      <th>4</th>\n",
       "      <td>2022-09-30 09:50:00</td>\n",
       "      <td>66.34</td>\n",
       "      <td>25.4</td>\n",
       "      <td>25.4</td>\n",
       "      <td>19.4</td>\n",
       "      <td>69.42</td>\n",
       "      <td>0.0</td>\n",
       "      <td>0</td>\n",
       "      <td>6.5</td>\n",
       "      <td>3.6</td>\n",
       "      <td>314.2</td>\n",
       "      <td>1012</td>\n",
       "      <td>86.5</td>\n",
       "      <td>24.1</td>\n",
       "      <td>10</td>\n",
       "    </tr>\n",
       "    <tr>\n",
       "      <th>...</th>\n",
       "      <td>...</td>\n",
       "      <td>...</td>\n",
       "      <td>...</td>\n",
       "      <td>...</td>\n",
       "      <td>...</td>\n",
       "      <td>...</td>\n",
       "      <td>...</td>\n",
       "      <td>...</td>\n",
       "      <td>...</td>\n",
       "      <td>...</td>\n",
       "      <td>...</td>\n",
       "      <td>...</td>\n",
       "      <td>...</td>\n",
       "      <td>...</td>\n",
       "      <td>...</td>\n",
       "    </tr>\n",
       "    <tr>\n",
       "      <th>3195</th>\n",
       "      <td>2022-09-08 06:00:00</td>\n",
       "      <td>59.66</td>\n",
       "      <td>18.8</td>\n",
       "      <td>18.8</td>\n",
       "      <td>16.6</td>\n",
       "      <td>87.05</td>\n",
       "      <td>0.0</td>\n",
       "      <td>0</td>\n",
       "      <td>4.0</td>\n",
       "      <td>5.4</td>\n",
       "      <td>77.1</td>\n",
       "      <td>1013</td>\n",
       "      <td>92.8</td>\n",
       "      <td>24.1</td>\n",
       "      <td>10</td>\n",
       "    </tr>\n",
       "    <tr>\n",
       "      <th>3196</th>\n",
       "      <td>2022-09-08 05:50:00</td>\n",
       "      <td>59.91</td>\n",
       "      <td>19.0</td>\n",
       "      <td>19.0</td>\n",
       "      <td>17.3</td>\n",
       "      <td>89.87</td>\n",
       "      <td>0.0</td>\n",
       "      <td>0</td>\n",
       "      <td>4.7</td>\n",
       "      <td>6.5</td>\n",
       "      <td>81.5</td>\n",
       "      <td>1013</td>\n",
       "      <td>100.0</td>\n",
       "      <td>24.1</td>\n",
       "      <td>10</td>\n",
       "    </tr>\n",
       "    <tr>\n",
       "      <th>3197</th>\n",
       "      <td>2022-09-08 05:40:00</td>\n",
       "      <td>60.05</td>\n",
       "      <td>19.0</td>\n",
       "      <td>19.0</td>\n",
       "      <td>17.3</td>\n",
       "      <td>89.87</td>\n",
       "      <td>0.0</td>\n",
       "      <td>0</td>\n",
       "      <td>4.7</td>\n",
       "      <td>6.5</td>\n",
       "      <td>81.5</td>\n",
       "      <td>1013</td>\n",
       "      <td>100.0</td>\n",
       "      <td>24.1</td>\n",
       "      <td>10</td>\n",
       "    </tr>\n",
       "    <tr>\n",
       "      <th>3198</th>\n",
       "      <td>2022-09-08 05:30:00</td>\n",
       "      <td>60.06</td>\n",
       "      <td>19.0</td>\n",
       "      <td>19.0</td>\n",
       "      <td>17.3</td>\n",
       "      <td>89.87</td>\n",
       "      <td>0.0</td>\n",
       "      <td>0</td>\n",
       "      <td>4.7</td>\n",
       "      <td>6.5</td>\n",
       "      <td>81.5</td>\n",
       "      <td>1013</td>\n",
       "      <td>100.0</td>\n",
       "      <td>24.1</td>\n",
       "      <td>10</td>\n",
       "    </tr>\n",
       "    <tr>\n",
       "      <th>3199</th>\n",
       "      <td>2022-09-08 05:20:00</td>\n",
       "      <td>59.98</td>\n",
       "      <td>19.0</td>\n",
       "      <td>19.0</td>\n",
       "      <td>17.3</td>\n",
       "      <td>89.87</td>\n",
       "      <td>0.0</td>\n",
       "      <td>0</td>\n",
       "      <td>4.7</td>\n",
       "      <td>6.5</td>\n",
       "      <td>81.5</td>\n",
       "      <td>1013</td>\n",
       "      <td>100.0</td>\n",
       "      <td>24.1</td>\n",
       "      <td>10</td>\n",
       "    </tr>\n",
       "  </tbody>\n",
       "</table>\n",
       "<p>3200 rows × 15 columns</p>\n",
       "</div>"
      ],
      "text/plain": [
       "                    date  height  temp  feelslike   dew  humidity  precip  \\\n",
       "0    2022-09-30 10:30:00   66.71  26.8       28.1  19.6     64.70     0.0   \n",
       "1    2022-09-30 10:20:00   66.91  26.8       28.1  19.6     64.70     0.0   \n",
       "2    2022-09-30 10:10:00   66.71  26.8       28.1  19.6     64.70     0.0   \n",
       "3    2022-09-30 10:00:00   66.38  26.8       28.1  19.6     64.70     0.0   \n",
       "4    2022-09-30 09:50:00   66.34  25.4       25.4  19.4     69.42     0.0   \n",
       "...                  ...     ...   ...        ...   ...       ...     ...   \n",
       "3195 2022-09-08 06:00:00   59.66  18.8       18.8  16.6     87.05     0.0   \n",
       "3196 2022-09-08 05:50:00   59.91  19.0       19.0  17.3     89.87     0.0   \n",
       "3197 2022-09-08 05:40:00   60.05  19.0       19.0  17.3     89.87     0.0   \n",
       "3198 2022-09-08 05:30:00   60.06  19.0       19.0  17.3     89.87     0.0   \n",
       "3199 2022-09-08 05:20:00   59.98  19.0       19.0  17.3     89.87     0.0   \n",
       "\n",
       "      precipprob  windgust  windspeed  winddir  sealevelpressure  cloudcover  \\\n",
       "0              0       8.6        5.4    292.1              1011       100.0   \n",
       "1              0       8.6        5.4    292.1              1011       100.0   \n",
       "2              0       8.6        5.4    292.1              1011       100.0   \n",
       "3              0       8.6        5.4    292.1              1011       100.0   \n",
       "4              0       6.5        3.6    314.2              1012        86.5   \n",
       "...          ...       ...        ...      ...               ...         ...   \n",
       "3195           0       4.0        5.4     77.1              1013        92.8   \n",
       "3196           0       4.7        6.5     81.5              1013       100.0   \n",
       "3197           0       4.7        6.5     81.5              1013       100.0   \n",
       "3198           0       4.7        6.5     81.5              1013       100.0   \n",
       "3199           0       4.7        6.5     81.5              1013       100.0   \n",
       "\n",
       "      visibility  severerisk  \n",
       "0           24.1          10  \n",
       "1           24.1          10  \n",
       "2           24.1          10  \n",
       "3           24.1          10  \n",
       "4           24.1          10  \n",
       "...          ...         ...  \n",
       "3195        24.1          10  \n",
       "3196        24.1          10  \n",
       "3197        24.1          10  \n",
       "3198        24.1          10  \n",
       "3199        24.1          10  \n",
       "\n",
       "[3200 rows x 15 columns]"
      ]
     },
     "execution_count": 4,
     "metadata": {},
     "output_type": "execute_result"
    }
   ],
   "source": [
    "# read data and format date\n",
    "data_simulasi = pd.read_csv('dataset/dataset_saved-A/dataset_A2/flood-A2_simulasi-sorted.csv')\n",
    "data_simulasi['date'] = data_simulasi['date'] + ':00'\n",
    "data_simulasi['date'] = pd.to_datetime(data_simulasi['date'], format='%d/%m/%Y %H:%M:%S')\n",
    "data_simulasi"
   ]
  },
  {
   "cell_type": "code",
   "execution_count": 5,
   "id": "7be8d946-5f91-4aa4-828e-fa92186deb6a",
   "metadata": {},
   "outputs": [
    {
     "data": {
      "text/html": [
       "<div>\n",
       "<style scoped>\n",
       "    .dataframe tbody tr th:only-of-type {\n",
       "        vertical-align: middle;\n",
       "    }\n",
       "\n",
       "    .dataframe tbody tr th {\n",
       "        vertical-align: top;\n",
       "    }\n",
       "\n",
       "    .dataframe thead th {\n",
       "        text-align: right;\n",
       "    }\n",
       "</style>\n",
       "<table border=\"1\" class=\"dataframe\">\n",
       "  <thead>\n",
       "    <tr style=\"text-align: right;\">\n",
       "      <th></th>\n",
       "      <th>count</th>\n",
       "      <th>mean</th>\n",
       "      <th>std</th>\n",
       "      <th>min</th>\n",
       "      <th>25%</th>\n",
       "      <th>50%</th>\n",
       "      <th>75%</th>\n",
       "      <th>max</th>\n",
       "    </tr>\n",
       "  </thead>\n",
       "  <tbody>\n",
       "    <tr>\n",
       "      <th>height</th>\n",
       "      <td>3200.0</td>\n",
       "      <td>66.393372</td>\n",
       "      <td>25.278005</td>\n",
       "      <td>33.9</td>\n",
       "      <td>49.69</td>\n",
       "      <td>58.78</td>\n",
       "      <td>73.7275</td>\n",
       "      <td>197.56</td>\n",
       "    </tr>\n",
       "  </tbody>\n",
       "</table>\n",
       "</div>"
      ],
      "text/plain": [
       "         count       mean        std   min    25%    50%      75%     max\n",
       "height  3200.0  66.393372  25.278005  33.9  49.69  58.78  73.7275  197.56"
      ]
     },
     "execution_count": 5,
     "metadata": {},
     "output_type": "execute_result"
    }
   ],
   "source": [
    "data_simulasi[['height']].describe().T"
   ]
  },
  {
   "cell_type": "markdown",
   "id": "6332c7c5-1535-4ad3-ba0f-95170e4c218e",
   "metadata": {},
   "source": [
    "Dalam dataset simulasi ini terdapat nilai 'height' antara 33.90 cm - 197.56 cm, \n",
    "jadi sudah cukup untuk melakukan simulasi klasifikasi dan prediksi banjir karena terdapat status siaga 0, siaga 1, dan siaga 3."
   ]
  },
  {
   "cell_type": "code",
   "execution_count": 6,
   "id": "47232d62-d0ab-4c1a-b022-cef7668a11f1",
   "metadata": {},
   "outputs": [
    {
     "data": {
      "image/png": "[encoded data removed]",
      "text/plain": [
       "<Figure size 1500x300 with 1 Axes>"
      ]
     },
     "metadata": {},
     "output_type": "display_data"
    },
    {
     "data": {
      "text/plain": [
       "Timestamp('2022-09-20 17:10:00')"
      ]
     },
     "execution_count": 6,
     "metadata": {},
     "output_type": "execute_result"
    }
   ],
   "source": [
    "# cek datetime\n",
    "data_cek=data_simulasi.sort_values(by='date',ascending=True).reset_index(drop=True)\n",
    "a=1800\n",
    "plt.figure(figsize=(15, 3))\n",
    "plt.plot(data_cek['height'], '-')\n",
    "plt.axvline(a-500, color='black', linestyle='--')\n",
    "plt.axvline(a, color='black', linestyle='--')\n",
    "plt.axvline(a+36, color='black', linestyle='--')\n",
    "plt.axhline(100, color='grey', linestyle='dotted')\n",
    "plt.axhline(150, color='grey', linestyle='dotted')\n",
    "plt.show()\n",
    "data_cek.date.loc[a-1]"
   ]
  },
  {
   "cell_type": "markdown",
   "id": "b5175285-59d0-41c7-ad9c-38439ff37d61",
   "metadata": {},
   "source": [
    "## Siaga 0 (AMAN)"
   ]
  },
  {
   "cell_type": "code",
   "execution_count": 7,
   "id": "529cf31f-76c5-493e-a984-bf02ed68113a",
   "metadata": {},
   "outputs": [
    {
     "name": "stdout",
     "output_type": "stream",
     "text": [
      "-----------------------------------------------------------------------------\n",
      "Datetime            : 2022-09-17 17:10:00\n",
      "Ketinggian sekarang : 67.17 cm\n",
      "Status sekarang     : SIAGA 0\n",
      "\n",
      "Info : [AMAN] Dalam 6 jam kedepan diperkirakan akan tetap berstatus SIAGA 0.\n",
      "        Tidak akan terjadi banjir.\n",
      "-----------------------------------------------------------------------------\n"
     ]
    },
    {
     "data": {
      "text/plain": [
       "'Plot Prediksi :'"
      ]
     },
     "metadata": {},
     "output_type": "display_data"
    },
    {
     "data": {
      "text/plain": [
       "<matplotlib.legend.Legend at 0x29170af8610>"
      ]
     },
     "metadata": {},
     "output_type": "display_data"
    },
    {
     "data": {
      "image/png": "[encoded data removed]",
      "text/plain": [
       "<Figure size 1000x400 with 1 Axes>"
      ]
     },
     "metadata": {},
     "output_type": "display_data"
    }
   ],
   "source": [
    "#date_now = input('date: ') \n",
    "date_now = '2022-09-17 17:10:00'\n",
    "\n",
    "# klasifikasi\n",
    "X_klasifikasi=get_X_klasifikasi(data=data_simulasi, \n",
    "                                date=date_now)\n",
    "y_klasifikasi=klasifikasi_banjir(X=X_klasifikasi,\n",
    "                                 scaler_X=scaler_X_klasifikasi,\n",
    "                                 model=model_klasifikasi_banjir)\n",
    "\n",
    "# prediksi\n",
    "X_prediksi=get_X_prediksi(data=data_simulasi, \n",
    "                          date=date_now)\n",
    "y_pred=prediksi_banjir(data=data_simulasi,\n",
    "                       date=date_now,\n",
    "                       X=X_prediksi,\n",
    "                       scaler_X=scaler_X_prediksi,\n",
    "                       scaler_y=scaler_y_prediksi,\n",
    "                       model=model_prediksi_banjir)\n",
    "pred_status=klasifikasi_banjir(X=y_pred,\n",
    "                               scaler_X=scaler_X_klasifikasi,\n",
    "                               model=model_klasifikasi_banjir)\n",
    "get_info(y_klasifikasi=y_klasifikasi,\n",
    "         X=X_prediksi,\n",
    "         y_pred_status=pred_status)"
   ]
  },
  {
   "cell_type": "markdown",
   "id": "b65ce922-ffb6-4935-8192-fe2944668d7f",
   "metadata": {},
   "source": [
    "## Siaga 1 (WASPADA)"
   ]
  },
  {
   "cell_type": "code",
   "execution_count": 8,
   "id": "067d74e3-8e11-4c33-89bf-d08fe7191f19",
   "metadata": {},
   "outputs": [
    {
     "name": "stdout",
     "output_type": "stream",
     "text": [
      "-----------------------------------------------------------------------------\n",
      "Datetime            : 2022-09-20 17:50:00\n",
      "Ketinggian sekarang : 77.0 cm\n",
      "Status sekarang     : SIAGA 0\n",
      "\n",
      "Info : [WASPADA] Dalam 80 menit kedepan diperkirakan akan berstatus SIAGA 1.\n",
      "        Harap pantau ketinggian air secara berkala.\n",
      "-----------------------------------------------------------------------------\n"
     ]
    },
    {
     "data": {
      "text/plain": [
       "'Plot Prediksi :'"
      ]
     },
     "metadata": {},
     "output_type": "display_data"
    },
    {
     "data": {
      "text/plain": [
       "<matplotlib.legend.Legend at 0x291a0361d00>"
      ]
     },
     "metadata": {},
     "output_type": "display_data"
    },
    {
     "data": {
      "image/png": "[encoded data removed]",
      "text/plain": [
       "<Figure size 1000x400 with 1 Axes>"
      ]
     },
     "metadata": {},
     "output_type": "display_data"
    }
   ],
   "source": [
    "#date_now \n",
    "date_now = '2022-09-20 17:50:00'\n",
    "\n",
    "# klasifikasi\n",
    "X_klasifikasi=get_X_klasifikasi(data=data_simulasi, \n",
    "                                date=date_now)\n",
    "y_klasifikasi=klasifikasi_banjir(X=X_klasifikasi,\n",
    "                                 scaler_X=scaler_X_klasifikasi,\n",
    "                                 model=model_klasifikasi_banjir)\n",
    "\n",
    "# prediksi\n",
    "X_prediksi=get_X_prediksi(data=data_simulasi, \n",
    "                          date=date_now)\n",
    "y_pred=prediksi_banjir(data=data_simulasi,\n",
    "                       date=date_now,\n",
    "                       X=X_prediksi,\n",
    "                       scaler_X=scaler_X_prediksi,\n",
    "                       scaler_y=scaler_y_prediksi,\n",
    "                       model=model_prediksi_banjir)\n",
    "pred_status=klasifikasi_banjir(X=y_pred,\n",
    "                               scaler_X=scaler_X_klasifikasi,\n",
    "                               model=model_klasifikasi_banjir)\n",
    "get_info(y_klasifikasi=y_klasifikasi,\n",
    "         X=X_prediksi,\n",
    "         y_pred_status=pred_status)"
   ]
  },
  {
   "cell_type": "markdown",
   "id": "2712837d-66af-46cf-9852-3966d4116728",
   "metadata": {},
   "source": [
    "## Siaga 2 (BAHAYA)"
   ]
  },
  {
   "cell_type": "code",
   "execution_count": 9,
   "id": "902532d8-c411-4b99-981a-890b4b8b5ad6",
   "metadata": {},
   "outputs": [
    {
     "name": "stdout",
     "output_type": "stream",
     "text": [
      "-----------------------------------------------------------------------------\n",
      "Datetime            : 2022-09-27 18:30:00\n",
      "Ketinggian sekarang : 103.26 cm\n",
      "Status sekarang     : SIAGA 1\n",
      "\n",
      "Info : [BAHAYA] Dalam 60 menit kedepan diperkirakan akan berstatus SIAGA 2.\n",
      "        Berkemungkinan terjadi banjir, segera lakukan evakuasi.\n",
      "-----------------------------------------------------------------------------\n"
     ]
    },
    {
     "data": {
      "text/plain": [
       "'Plot Prediksi :'"
      ]
     },
     "metadata": {},
     "output_type": "display_data"
    },
    {
     "data": {
      "text/plain": [
       "<matplotlib.legend.Legend at 0x291a3c07dc0>"
      ]
     },
     "metadata": {},
     "output_type": "display_data"
    },
    {
     "data": {
      "image/png": "[encoded data removed]",
      "text/plain": [
       "<Figure size 1000x400 with 1 Axes>"
      ]
     },
     "metadata": {},
     "output_type": "display_data"
    }
   ],
   "source": [
    "#date_now = input('date: ') \n",
    "date_now = '2022-09-27 18:30:00'\n",
    "\n",
    "# klasifikasi\n",
    "X_klasifikasi=get_X_klasifikasi(data=data_simulasi, \n",
    "                                date=date_now)\n",
    "y_klasifikasi=klasifikasi_banjir(X=X_klasifikasi,\n",
    "                                 scaler_X=scaler_X_klasifikasi,\n",
    "                                 model=model_klasifikasi_banjir)\n",
    "\n",
    "# prediksi\n",
    "X_prediksi=get_X_prediksi(data=data_simulasi, \n",
    "                          date=date_now)\n",
    "y_pred=prediksi_banjir(data=data_simulasi,\n",
    "                       date=date_now,\n",
    "                       X=X_prediksi,\n",
    "                       scaler_X=scaler_X_prediksi,\n",
    "                       scaler_y=scaler_y_prediksi,\n",
    "                       model=model_prediksi_banjir)\n",
    "pred_status=klasifikasi_banjir(X=y_pred,\n",
    "                               scaler_X=scaler_X_klasifikasi,\n",
    "                               model=model_klasifikasi_banjir)\n",
    "get_info(y_klasifikasi=y_klasifikasi,\n",
    "         X=X_prediksi,\n",
    "         y_pred_status=pred_status)"
   ]
  },
  {
   "cell_type": "markdown",
   "id": "9341064a-d529-4445-af75-150945729746",
   "metadata": {},
   "source": [
    "## Evaluasi"
   ]
  },
  {
   "cell_type": "markdown",
   "id": "bc35afcf-ea20-454a-8b2b-3494d200dc76",
   "metadata": {},
   "source": [
    "### model klasifikasi"
   ]
  },
  {
   "cell_type": "code",
   "execution_count": 10,
   "id": "779e50df-50b1-457c-8340-738549469f6a",
   "metadata": {},
   "outputs": [],
   "source": [
    "# data simulasi\n",
    "df=data_simulasi[['height']].copy()\n",
    "# define aman=0, siaga 1=1, siaga 2=2\n",
    "df['status'] = np.where(df['height'] <= 100, 0, \n",
    "                        np.where(df['height'] <= 150, 1, \n",
    "                                 2))\n",
    "# Membagi fitur dan label\n",
    "X = df[['height']]\n",
    "y = df[['status']]\n",
    "\n",
    "# scaling\n",
    "scaler_X = scaler_X_klasifikasi\n",
    "X_scaled = scaler_X.transform(X)"
   ]
  },
  {
   "cell_type": "code",
   "execution_count": 11,
   "id": "07354b0f-218a-4f51-8364-d43e6129c20a",
   "metadata": {},
   "outputs": [
    {
     "data": {
      "text/plain": [
       "status\n",
       "0         2882\n",
       "1          276\n",
       "2           42\n",
       "dtype: int64"
      ]
     },
     "execution_count": 11,
     "metadata": {},
     "output_type": "execute_result"
    }
   ],
   "source": [
    "y.value_counts()"
   ]
  },
  {
   "cell_type": "code",
   "execution_count": 12,
   "id": "e32516b1-8677-4415-8ba9-d42253ea6c26",
   "metadata": {},
   "outputs": [
    {
     "data": {
      "text/html": [
       "<div>\n",
       "<style scoped>\n",
       "    .dataframe tbody tr th:only-of-type {\n",
       "        vertical-align: middle;\n",
       "    }\n",
       "\n",
       "    .dataframe tbody tr th {\n",
       "        vertical-align: top;\n",
       "    }\n",
       "\n",
       "    .dataframe thead th {\n",
       "        text-align: right;\n",
       "    }\n",
       "</style>\n",
       "<table border=\"1\" class=\"dataframe\">\n",
       "  <thead>\n",
       "    <tr style=\"text-align: right;\">\n",
       "      <th></th>\n",
       "      <th>loss</th>\n",
       "      <th>accuracy</th>\n",
       "    </tr>\n",
       "  </thead>\n",
       "  <tbody>\n",
       "    <tr>\n",
       "      <th>simulasi</th>\n",
       "      <td>0.02344</td>\n",
       "      <td>0.996875</td>\n",
       "    </tr>\n",
       "  </tbody>\n",
       "</table>\n",
       "</div>"
      ],
      "text/plain": [
       "             loss  accuracy\n",
       "simulasi  0.02344  0.996875"
      ]
     },
     "execution_count": 12,
     "metadata": {},
     "output_type": "execute_result"
    }
   ],
   "source": [
    "# Evaluasi model\n",
    "simulasi_scores = model_klasifikasi_banjir.evaluate(X_scaled, y, verbose=0)\n",
    "\n",
    "# dataframe untuk evaluasi model\n",
    "df_eval = pd.DataFrame(index=['simulasi'],\n",
    "                       columns=['loss', 'accuracy'])\n",
    "\n",
    "df_eval.loc['simulasi', 'loss']=simulasi_scores[0]\n",
    "df_eval.loc['simulasi', 'accuracy']=simulasi_scores[1]\n",
    "\n",
    "df_eval"
   ]
  },
  {
   "cell_type": "markdown",
   "id": "b5fc89a9-1d4c-4c29-8b71-e52248c87626",
   "metadata": {},
   "source": [
    "### model prediksi"
   ]
  },
  {
   "cell_type": "code",
   "execution_count": 13,
   "id": "fce40196-11f8-43a9-8c6d-019cec58807d",
   "metadata": {},
   "outputs": [],
   "source": [
    "df=data_simulasi.copy()"
   ]
  },
  {
   "cell_type": "code",
   "execution_count": 14,
   "id": "bc090390-6458-4152-bb1a-47bd5cd82264",
   "metadata": {},
   "outputs": [],
   "source": [
    "df['cloudcover_3h'] = df['cloudcover'].shift(18)\n",
    "df['humidity_18h'] = df['humidity'].shift(108)\n",
    "df['height_diff_18h'] = df['height'] - df['height'].shift(108)\n",
    "df = df.dropna().reset_index(drop = True)\n",
    "\n",
    "# Membagi fitur/prediktor dan label \n",
    "X = df[['height','windgust','cloudcover_3h','humidity_18h','height_diff_18h']]\n",
    "y = df[['height']]"
   ]
  },
  {
   "cell_type": "code",
   "execution_count": 15,
   "id": "d8361162-2c2a-4f41-aebe-8b5e291990b2",
   "metadata": {},
   "outputs": [],
   "source": [
    "# X\n",
    "scaler_X = scaler_X_prediksi\n",
    "X_scaled = scaler_X.transform(X)\n",
    "\n",
    "# y\n",
    "scaler_y = scaler_y_prediksi\n",
    "y_scaled = scaler_y.transform(y)\n",
    "\n",
    "# reshape \n",
    "y_scaled = y_scaled.reshape(-1)"
   ]
  },
  {
   "cell_type": "code",
   "execution_count": 16,
   "id": "cfebdf93-df1a-4313-b677-cacaf157b963",
   "metadata": {},
   "outputs": [],
   "source": [
    "# fungsi window\n",
    "def create_window(data, window_size, future_size, label):\n",
    "    X_window = []\n",
    "    y_window = []\n",
    "\n",
    "    for i in range(len(data) - window_size - future_size):\n",
    "        X_window.append(data[i:i+window_size])\n",
    "        y_window.append(label[i+window_size:i+window_size+future_size])\n",
    "\n",
    "    return np.array(X_window), np.array(y_window)"
   ]
  },
  {
   "cell_type": "code",
   "execution_count": 17,
   "id": "64b99a32-c2ea-46b1-8888-0cfb20a80a14",
   "metadata": {},
   "outputs": [
    {
     "name": "stdout",
     "output_type": "stream",
     "text": [
      "(2768, 288, 5) (2768, 36)\n"
     ]
    }
   ],
   "source": [
    "# window (3)\n",
    "window_size_3 = 288\n",
    "future_size_3 = 36\n",
    "\n",
    "X_window_3, y_window_3 = create_window(X_scaled, window_size_3, future_size_3, y_scaled)\n",
    "\n",
    "print(X_window_3.shape, y_window_3.shape)"
   ]
  },
  {
   "cell_type": "code",
   "execution_count": 18,
   "id": "931b6914-7b32-4eb0-be76-32b180331de3",
   "metadata": {},
   "outputs": [],
   "source": [
    "def eval_df(model, X_window, y_window):\n",
    "    # Evaluasi model \n",
    "    y_results = model.evaluate(X_window, y_window)\n",
    "\n",
    "    # train MAE, MSE, RMSE\n",
    "    mae, mse, rmse = y_results[1], y_results[0], y_results[2]\n",
    "\n",
    "    # Membuat dataframe untuk hasil evaluasi\n",
    "    evaluation_results = pd.DataFrame({'MAE': [mae],\n",
    "                                       'MSE': [mse],\n",
    "                                       'RMSE': [rmse]},\n",
    "                                      index=['Simulasi'])\n",
    "    # Menampilkan dataframe\n",
    "    return evaluation_results.round(4)"
   ]
  },
  {
   "cell_type": "code",
   "execution_count": 19,
   "id": "25f0ae6b-e1a0-43c2-b982-55e5ef3e4d69",
   "metadata": {},
   "outputs": [
    {
     "name": "stdout",
     "output_type": "stream",
     "text": [
      "87/87 [==============================] - 7s 64ms/step - loss: 0.0032 - mean_absolute_error: 0.0347 - root_mean_squared_error: 0.0566\n"
     ]
    },
    {
     "data": {
      "text/html": [
       "<div>\n",
       "<style scoped>\n",
       "    .dataframe tbody tr th:only-of-type {\n",
       "        vertical-align: middle;\n",
       "    }\n",
       "\n",
       "    .dataframe tbody tr th {\n",
       "        vertical-align: top;\n",
       "    }\n",
       "\n",
       "    .dataframe thead th {\n",
       "        text-align: right;\n",
       "    }\n",
       "</style>\n",
       "<table border=\"1\" class=\"dataframe\">\n",
       "  <thead>\n",
       "    <tr style=\"text-align: right;\">\n",
       "      <th></th>\n",
       "      <th>MAE</th>\n",
       "      <th>MSE</th>\n",
       "      <th>RMSE</th>\n",
       "    </tr>\n",
       "  </thead>\n",
       "  <tbody>\n",
       "    <tr>\n",
       "      <th>Simulasi</th>\n",
       "      <td>0.0347</td>\n",
       "      <td>0.0032</td>\n",
       "      <td>0.0566</td>\n",
       "    </tr>\n",
       "  </tbody>\n",
       "</table>\n",
       "</div>"
      ],
      "text/plain": [
       "             MAE     MSE    RMSE\n",
       "Simulasi  0.0347  0.0032  0.0566"
      ]
     },
     "execution_count": 19,
     "metadata": {},
     "output_type": "execute_result"
    }
   ],
   "source": [
    "# menampilkan hasil evaluasi model\n",
    "eval_df(model_prediksi_banjir, X_window_3, y_window_3)"
   ]
  },
  {
   "cell_type": "markdown",
   "id": "f458e2ff-6d23-43af-972b-a404de898e5c",
   "metadata": {},
   "source": [
    "## ... save data (pickle)"
   ]
  },
  {
   "cell_type": "code",
   "execution_count": 20,
   "id": "a402c13d-0777-4522-a271-c15407179004",
   "metadata": {},
   "outputs": [
    {
     "name": "stdout",
     "output_type": "stream",
     "text": [
      "<class 'pandas.core.frame.DataFrame'>\n",
      "RangeIndex: 3200 entries, 0 to 3199\n",
      "Data columns (total 15 columns):\n",
      " #   Column                   Non-Null Count  Dtype         \n",
      "---  ------                   --------------  -----         \n",
      " 0   datetime                 3200 non-null   datetime64[ns]\n",
      " 1   height (cm)              3200 non-null   float64       \n",
      " 2   temp (C)                 3200 non-null   float64       \n",
      " 3   feelslike (C)            3200 non-null   float64       \n",
      " 4   dew (C)                  3200 non-null   float64       \n",
      " 5   humidity (%)             3200 non-null   float64       \n",
      " 6   precip (mm)              3200 non-null   float64       \n",
      " 7   precipprob (%)           3200 non-null   int64         \n",
      " 8   windgust (kph)           3200 non-null   float64       \n",
      " 9   windspeed (kph)          3200 non-null   float64       \n",
      " 10  winddir (degree)         3200 non-null   float64       \n",
      " 11  sealevelpressure (mbar)  3200 non-null   int64         \n",
      " 12  cloudcover (%)           3200 non-null   float64       \n",
      " 13  visibility (km)          3200 non-null   float64       \n",
      " 14  severerisk               3200 non-null   int64         \n",
      "dtypes: datetime64[ns](1), float64(11), int64(3)\n",
      "memory usage: 375.1 KB\n"
     ]
    }
   ],
   "source": [
    "# read data and format date\n",
    "data_simulasi = pd.read_csv('dataset/dataset_saved-A/dataset_A2/flood-A2_simulasi-sorted.csv')\n",
    "data_simulasi['date'] = data_simulasi['date'] + ':00'\n",
    "data_simulasi['date'] = pd.to_datetime(data_simulasi['date'], format='%d/%m/%Y %H:%M:%S')\n",
    "# rename columns\n",
    "data_simulasi = data_simulasi.rename(columns = {'date':'datetime', \n",
    "                                                'height':'height (cm)', \n",
    "                                                'temp':'temp (C)', \n",
    "                                                'feelslike':'feelslike (C)', \n",
    "                                                'dew':'dew (C)', \n",
    "                                                'humidity':'humidity (%)', \n",
    "                                                'precip':'precip (mm)',\n",
    "                                                'precipprob':'precipprob (%)', \n",
    "                                                'windgust':'windgust (kph)', \n",
    "                                                'windspeed':'windspeed (kph)', \n",
    "                                                'winddir':'winddir (degree)', \n",
    "                                                'sealevelpressure':'sealevelpressure (mbar)',\n",
    "                                                'cloudcover':'cloudcover (%)', \n",
    "                                                'visibility':'visibility (km)'})\n",
    "data_simulasi.info()"
   ]
  },
  {
   "cell_type": "code",
   "execution_count": 24,
   "id": "70bcf367-2751-4cdc-92b2-d6c5dd4cebc8",
   "metadata": {},
   "outputs": [],
   "source": [
    "import pickle\n",
    "\n",
    "# Menyimpan objek menggunakan pickle\n",
    "with open(\"flood-simulasi.pkl\", 'wb') as file:\n",
    "    pickle.dump(data_simulasi, file)"
   ]
  },
  {
   "cell_type": "code",
   "execution_count": 25,
   "id": "ff198469-3243-4e8f-8a60-ac421b929cde",
   "metadata": {},
   "outputs": [],
   "source": [
    "# Membuka file menggunakan pickle\n",
    "with open(\"flood-simulasi.pkl\", 'rb') as file:\n",
    "    loaded_data = pickle.load(file)"
   ]
  },
  {
   "cell_type": "code",
   "execution_count": 26,
   "id": "2a91ebe0-ec4c-4631-82cd-077296deb438",
   "metadata": {},
   "outputs": [
    {
     "name": "stdout",
     "output_type": "stream",
     "text": [
      "<class 'pandas.core.frame.DataFrame'>\n",
      "RangeIndex: 3200 entries, 0 to 3199\n",
      "Data columns (total 15 columns):\n",
      " #   Column                   Non-Null Count  Dtype         \n",
      "---  ------                   --------------  -----         \n",
      " 0   datetime                 3200 non-null   datetime64[ns]\n",
      " 1   height (cm)              3200 non-null   float64       \n",
      " 2   temp (C)                 3200 non-null   float64       \n",
      " 3   feelslike (C)            3200 non-null   float64       \n",
      " 4   dew (C)                  3200 non-null   float64       \n",
      " 5   humidity (%)             3200 non-null   float64       \n",
      " 6   precip (mm)              3200 non-null   float64       \n",
      " 7   precipprob (%)           3200 non-null   int64         \n",
      " 8   windgust (kph)           3200 non-null   float64       \n",
      " 9   windspeed (kph)          3200 non-null   float64       \n",
      " 10  winddir (degree)         3200 non-null   float64       \n",
      " 11  sealevelpressure (mbar)  3200 non-null   int64         \n",
      " 12  cloudcover (%)           3200 non-null   float64       \n",
      " 13  visibility (km)          3200 non-null   float64       \n",
      " 14  severerisk               3200 non-null   int64         \n",
      "dtypes: datetime64[ns](1), float64(11), int64(3)\n",
      "memory usage: 375.1 KB\n"
     ]
    }
   ],
   "source": [
    "loaded_data.info()"
   ]
  },
  {
   "cell_type": "markdown",
   "id": "8c6488f9-8276-41cd-84e2-8d97a86b77d2",
   "metadata": {},
   "source": [
    "---"
   ]
  }
 ],
 "metadata": {
  "kernelspec": {
   "display_name": "Python 3 (ipykernel)",
   "language": "python",
   "name": "python3"
  },
  "language_info": {
   "codemirror_mode": {
    "name": "ipython",
    "version": 3
   },
   "file_extension": ".py",
   "mimetype": "text/x-python",
   "name": "python",
   "nbconvert_exporter": "python",
   "pygments_lexer": "ipython3",
   "version": "3.9.16"
  }
 },
 "nbformat": 4,
 "nbformat_minor": 5
}
